{
 "cells": [
  {
   "cell_type": "code",
   "execution_count": null,
   "metadata": {
    "deletable": false,
    "editable": false
   },
   "outputs": [],
   "source": [
    "# Initialize Otter\n",
    "import otter\n",
    "grader = otter.Notebook(\"check_inverse_kinematics.ipynb\")"
   ]
  },
  {
   "cell_type": "raw",
   "metadata": {},
   "source": [
    "# ASSIGNMENT CONFIG\n",
    "requirements: ../requirements.txt\n",
    "solutions_pdf: true\n",
    "export_cell:\n",
    "    instructions: \"Submit through gradescope, inverse kinematics\"\n",
    "files:\n",
    "    - Data/Square.json\n",
    "    - Data/Wedge.json\n",
    "    - tests_ik_autograder.py\n",
    "generate: \n",
    "    pdf: true\n",
    "    points_possible: 20\n",
    "    filtering: true\n",
    "    pagebreaks: true\n",
    "    zips: false"
   ]
  },
  {
   "cell_type": "markdown",
   "metadata": {},
   "source": [
    "# Arm inverse kinematics\n",
    "\n",
    "Do IK twice, once with gradient descent, once with a Jacobian.\n",
    "All the code is in arm_ik_gradient.py and arm_ik_jacobian.py\n",
    "\n",
    "Slides: https://docs.google.com/presentation/d/1dowamZVQqyLDZ-k-vWRV0rrQ-4dMVWhSCy25BV8a6bU/edit?usp=sharing"
   ]
  },
  {
   "cell_type": "code",
   "execution_count": 1,
   "metadata": {},
   "outputs": [],
   "source": [
    "# Doing the imports for you\n",
    "import numpy as np\n",
    "import json as json\n",
    "import matplotlib.pyplot as plt"
   ]
  },
  {
   "cell_type": "code",
   "execution_count": 2,
   "metadata": {},
   "outputs": [],
   "source": [
    "import sys; \n",
    "sys.path.insert(0, '.')\n",
    "sys.path.insert(0, '../Skills')\n",
    "\n",
    "# These commands will force JN to actually re-load the external file when you re-execute the import command\n",
    "%load_ext autoreload\n",
    "%autoreload 2"
   ]
  },
  {
   "cell_type": "code",
   "execution_count": 3,
   "metadata": {},
   "outputs": [],
   "source": [
    "import arm_forward_kinematics as afk\n",
    "import arm_ik_gradient as ik_gradient"
   ]
  },
  {
   "cell_type": "raw",
   "metadata": {},
   "source": [
    "# BEGIN QUESTION\n",
    "name: gradient_calculation\n",
    "points: 4"
   ]
  },
  {
   "cell_type": "markdown",
   "metadata": {},
   "source": [
    "## Gradient calculation, using distance of grasp point to target\n",
    "There are tests for each step of this/each function to make sure that you're getting the correct (or same as the example code) values. "
   ]
  },
  {
   "cell_type": "raw",
   "metadata": {},
   "source": [
    "# BEGIN SOLUTION"
   ]
  },
  {
   "cell_type": "code",
   "execution_count": 4,
   "metadata": {},
   "outputs": [],
   "source": [
    "# Create the arm geometry\n",
    "base_size_param = (1.0, 0.5)\n",
    "link_sizes_param = [(0.5, 0.25), (0.3, 0.1), (0.2, 0.05)]\n",
    "palm_width_param = 0.1\n",
    "finger_size_param = (0.075, 0.025)\n",
    "\n",
    "arm_geometry = afk.create_arm_geometry(base_size_param, link_sizes_param, palm_width_param, finger_size_param)\n",
    "\n",
    "# Set some initial angles\n",
    "angles_check = [0.0, np.pi/4, 0, [-np.pi/4.0, np.pi/4.0, -np.pi/4.0]]\n",
    "afk.set_angles_of_arm_geometry(arm_geometry, angles_check)"
   ]
  },
  {
   "cell_type": "code",
   "execution_count": 5,
   "metadata": {},
   "outputs": [
    {
     "name": "stdout",
     "output_type": "stream",
     "text": [
      "Success: got same gripper location\n"
     ]
    }
   ],
   "source": [
    "# First check - do you get the same answer for the gripper location?\n",
    "gripper_loc = afk.get_gripper_location(arm_geometry)\n",
    "exp_gripper_loc = (-0.3536, 1.4098)\n",
    "if not np.isclose(gripper_loc[0], exp_gripper_loc[0], atol=0.01) or not np.isclose(gripper_loc[1], exp_gripper_loc[1], atol=0.01):\n",
    "    print(f\"Gripper loc, expected {exp_gripper_loc}, got {gripper_loc}\")\n",
    "else:\n",
    "    print(f\"Success: got same gripper location\")\n"
   ]
  },
  {
   "cell_type": "code",
   "execution_count": 6,
   "metadata": {},
   "outputs": [],
   "source": [
    "# Set the target for the example here\n",
    "target = (0.5, 1.5)"
   ]
  },
  {
   "cell_type": "code",
   "execution_count": 7,
   "metadata": {},
   "outputs": [
    {
     "data": {
      "text/plain": [
       "Text(0.5, 1.0, 'Before gradient descent')"
      ]
     },
     "execution_count": 7,
     "metadata": {},
     "output_type": "execute_result"
    },
    {
     "data": {
      "image/png": "[encoded data removed]",
      "text/plain": [
       "<Figure size 288x288 with 1 Axes>"
      ]
     },
     "metadata": {
      "needs_background": "light"
     },
     "output_type": "display_data"
    }
   ],
   "source": [
    "# Plot so you can see what the arm angles produce and where the target is\n",
    "fig, axs = plt.subplots(1, 1, figsize=(4, 4))\n",
    "\n",
    "# Actually get the matrices\n",
    "matrices = afk.get_matrices_all_links(arm_geometry)\n",
    "afk.plot_complete_arm(axs, arm_geometry, matrices)\n",
    "\n",
    "# Plot target too\n",
    "axs.plot(target[0], target[1], '+r')\n",
    "axs.set_title(\"Before gradient descent\")"
   ]
  },
  {
   "cell_type": "code",
   "execution_count": 9,
   "metadata": {},
   "outputs": [
    {
     "name": "stdout",
     "output_type": "stream",
     "text": [
      "Passed vec check\n"
     ]
    }
   ],
   "source": [
    "# First check - vector to goal - see pic above, should point from green + to red one\n",
    "vec = ik_gradient.vector_to_goal(arm_geometry, target)\n",
    "if not vec.shape[0] == 2:\n",
    "    print(f\"Expected a 2x1 vector, got {vec.shape}\")\n",
    "elif not np.isclose(vec[0], 0.8535, atol=0.01) or not np.isclose(vec[1], 0.09019, atol=0.01):\n",
    "    print(f\"Expected (0.853, 0.090), got {vec}\")\n",
    "else:\n",
    "    print(\"Passed vec check\")"
   ]
  },
  {
   "cell_type": "code",
   "execution_count": 11,
   "metadata": {},
   "outputs": [
    {
     "name": "stdout",
     "output_type": "stream",
     "text": [
      "Passed distance check\n"
     ]
    }
   ],
   "source": [
    "# Second check - distance to goal, should be length of vector\n",
    "dist = ik_gradient.distance_to_goal(arm_geometry, target)\n",
    "if not np.isclose(dist, 0.858, atol=0.01):\n",
    "    print(f\"Expected 0.858, got {dist}\")\n",
    "else:\n",
    "    print(\"Passed distance check\")"
   ]
  },
  {
   "cell_type": "code",
   "execution_count": 12,
   "metadata": {},
   "outputs": [
    {
     "name": "stdout",
     "output_type": "stream",
     "text": [
      "Passed gradient check\n"
     ]
    }
   ],
   "source": [
    "# Third check - the gradient. \n",
    "grad = ik_gradient.calculate_gradient(arm_geometry, angles_check, target)\n",
    "exp_grad = [0.9419, 0.4447, 0.2114, 0.0559]\n",
    "if not len(grad) == 4:\n",
    "    print(f\"Expected a 4x1 list, got {grad}\")\n",
    "elif not np.all(np.isclose(grad, exp_grad, atol=0.01)):\n",
    "    print(f\"Expected {exp_grad} got {grad}\")\n",
    "else:\n",
    "    print(\"Passed gradient check\")"
   ]
  },
  {
   "cell_type": "raw",
   "metadata": {},
   "source": [
    "# END SOLUTION"
   ]
  },
  {
   "cell_type": "raw",
   "metadata": {},
   "source": [
    "# BEGIN TESTS"
   ]
  },
  {
   "cell_type": "code",
   "execution_count": 13,
   "metadata": {},
   "outputs": [],
   "source": [
    "assert(np.isclose(vec[0], 0.8535, atol=0.01) or not np.isclose(vec[1], 0.09019, atol=0.01))"
   ]
  },
  {
   "cell_type": "code",
   "execution_count": 14,
   "metadata": {},
   "outputs": [],
   "source": [
    "assert(np.isclose(dist, 0.858, atol=0.01))"
   ]
  },
  {
   "cell_type": "code",
   "execution_count": 15,
   "metadata": {},
   "outputs": [],
   "source": [
    "assert(np.all(np.isclose(grad, exp_grad, atol=0.01)))"
   ]
  },
  {
   "cell_type": "raw",
   "metadata": {},
   "source": [
    "# END TESTS"
   ]
  },
  {
   "cell_type": "raw",
   "metadata": {},
   "source": [
    "# END QUESTION"
   ]
  },
  {
   "cell_type": "raw",
   "metadata": {},
   "source": [
    "# BEGIN QUESTION\n",
    "name: gradient_descent\n",
    "points: 6"
   ]
  },
  {
   "cell_type": "markdown",
   "metadata": {},
   "source": [
    "## Gradient descent\n",
    "This checks the actual gradient descent algorithm - does the gripper get closer to the goal at each time step? Does it eventually reach the goal?\n",
    "\n",
    "Checks gradient_descent in arm_ik_gradient.py"
   ]
  },
  {
   "cell_type": "raw",
   "metadata": {},
   "source": [
    "# BEGIN SOLUTION"
   ]
  },
  {
   "cell_type": "code",
   "execution_count": 17,
   "metadata": {},
   "outputs": [],
   "source": [
    "# Main check - do we get out the new angles? Note, this assumes that you haven't changed up the step size\n",
    "b_succ, angles_new, count = ik_gradient.gradient_descent(arm_geometry, angles_check, target, b_one_step=True)\n",
    "ang_exp = [-0.942, 0.341, -0.211, [-0.841, 0, 0]]\n",
    "if not len(angles_new) == 4:\n",
    "    print(f\"Expected {ang_exp}, got {angles_new}\")\n",
    "for a1, a2 in zip(angles_new, ang_exp):\n",
    "    if not np.all(np.isclose(a1, a2, atol=0.01)):\n",
    "        print(f\"Expected {a1} got {a2}\")\n",
    "if not b_succ:\n",
    "    print(f\"Expected successful/improvement, got none\")"
   ]
  },
  {
   "cell_type": "markdown",
   "metadata": {},
   "source": [
    "This checks that you make progress with succcessive calls"
   ]
  },
  {
   "cell_type": "code",
   "execution_count": 20,
   "metadata": {},
   "outputs": [
    {
     "name": "stdout",
     "output_type": "stream",
     "text": [
      "Starting distance 0.8583057840546942\n",
      "Passed iteration check 0, dist 0.4264293217900864\n",
      "Passed iteration check 1, dist 0.32455226108159024\n",
      "Passed iteration check 2, dist 0.10734186278280106\n"
     ]
    }
   ],
   "source": [
    "# This will actually change the arm geometry based on the new angles\n",
    "afk.set_angles_of_arm_geometry(arm_geometry, angles_check)\n",
    "last_dist = ik_gradient.distance_to_goal(arm_geometry, target)\n",
    "\n",
    "# For first round of for loop\n",
    "angles_new = angles_check\n",
    "print(f\"Starting distance {last_dist}\")\n",
    "for i in range(0, 3):\n",
    "    b_succ, angles_new, count = ik_gradient.gradient_descent(arm_geometry, angles_new, target, b_one_step=True)\n",
    "    afk.set_angles_of_arm_geometry(arm_geometry, angles_new)\n",
    "    dist = ik_gradient.distance_to_goal(arm_geometry, target)\n",
    "    if not b_succ:\n",
    "        print(f\"Expected successful/improvement after each iteration, got none\")\n",
    "    elif not dist < last_dist:\n",
    "        print(f\"Expected improvement, got none, dist {dist}\")\n",
    "    else:\n",
    "        print(f\"Passed iteration check {i}, dist {dist}\")\n",
    "    last_dist = dist\n",
    "\n",
    "if not np.isclose(dist, 0.1, atol=0.01):\n",
    "    print(f\"Expected distance to be close to 0.1, got {dist}, count {count}\")\n"
   ]
  },
  {
   "cell_type": "markdown",
   "metadata": {},
   "source": [
    "## Full gradient descent\n",
    "Run for 1,000 iterations or no improvement"
   ]
  },
  {
   "cell_type": "code",
   "execution_count": 25,
   "metadata": {},
   "outputs": [
    {
     "name": "stdout",
     "output_type": "stream",
     "text": [
      "Passed full descent 0.063\n"
     ]
    }
   ],
   "source": [
    "# Do gradient descent until gradient descent bottoms out\n",
    "b_succ, angles_new, count = ik_gradient.gradient_descent(arm_geometry, angles_check, target, b_one_step=False)\n",
    "\n",
    "# Set the new angles\n",
    "afk.set_angles_of_arm_geometry(arm_geometry, angles_new)\n",
    "dist = ik_gradient.distance_to_goal(arm_geometry, target)\n",
    "\n",
    "if not b_succ:\n",
    "    print(f\"Expected successful/improvement, got none\")\n",
    "elif not np.isclose(dist, 0.063, atol=0.01):\n",
    "    print(f\"Expected distance to be close to 0.063, got {dist}, count {count}\")\n",
    "    \n",
    "else:\n",
    "    print(f\"Passed full descent {dist:0.2}\")"
   ]
  },
  {
   "cell_type": "markdown",
   "metadata": {},
   "source": [
    "## Plot the before and after\n",
    "You can move this earlier in the JN if you want to check, eg, what happens after one step"
   ]
  },
  {
   "cell_type": "code",
   "execution_count": 27,
   "metadata": {},
   "outputs": [
    {
     "data": {
      "text/plain": [
       "Text(0.5, 1.0, 'After gradient descent count 1001 dist 0.0633')"
      ]
     },
     "execution_count": 27,
     "metadata": {},
     "output_type": "execute_result"
    },
    {
     "data": {
      "image/png": "[encoded data removed]",
      "text/plain": [
       "<Figure size 864x432 with 2 Axes>"
      ]
     },
     "metadata": {
      "needs_background": "light"
     },
     "output_type": "display_data"
    }
   ],
   "source": [
    "# And plot the old and the new\n",
    "# Plot so you can see what it should look like\n",
    "fig, axs = plt.subplots(1, 2, figsize=(12, 6))\n",
    "\n",
    "for i, a in enumerate([angles_check, angles_new]):\n",
    "    # Actually get the matrices\n",
    "    afk.set_angles_of_arm_geometry(arm_geometry, a)\n",
    "    matrices = afk.get_matrices_all_links(arm_geometry)\n",
    "    afk.plot_complete_arm(axs[i], arm_geometry, matrices)\n",
    "\n",
    "    # Plot target too\n",
    "    axs[i].plot(target[0], target[1], '+r')\n",
    "\n",
    "axs[0].set_title(\"Before gradient descent\")\n",
    "axs[1].set_title(f\"After gradient descent count {count} dist {dist:0.3}\")"
   ]
  },
  {
   "cell_type": "raw",
   "metadata": {},
   "source": [
    "# END SOLUTION"
   ]
  },
  {
   "cell_type": "raw",
   "metadata": {},
   "source": [
    "# BEGIN TESTS"
   ]
  },
  {
   "cell_type": "code",
   "execution_count": 53,
   "metadata": {},
   "outputs": [],
   "source": [
    "from tests_ik_autograder import test_reach_target\n",
    "assert(test_reach_target(ik_gradient.gradient_descent))"
   ]
  },
  {
   "cell_type": "raw",
   "metadata": {},
   "source": [
    "# END TESTS"
   ]
  },
  {
   "cell_type": "raw",
   "metadata": {},
   "source": [
    "# END QUESTION"
   ]
  },
  {
   "cell_type": "markdown",
   "metadata": {},
   "source": [
    "# IK using a jacobian\n",
    "You can do either the Jacobian numerically or from matrices (extra credit) or both. \n",
    "The routines you need to edit are in arm_ik_jacobian.py"
   ]
  },
  {
   "cell_type": "raw",
   "metadata": {},
   "source": [
    "# BEGIN QUESTION\n",
    "name: practice_jacobian\n",
    "points: 1"
   ]
  },
  {
   "cell_type": "markdown",
   "metadata": {},
   "source": [
    "## Practice Jacobian\n",
    "This is a 1d, stand-alone Jacobian. "
   ]
  },
  {
   "cell_type": "raw",
   "metadata": {},
   "source": [
    "# BEGIN SOLUTION"
   ]
  },
  {
   "cell_type": "code",
   "execution_count": 30,
   "metadata": {},
   "outputs": [],
   "source": [
    "import arm_ik_jacobian as ik_jacobian"
   ]
  },
  {
   "cell_type": "code",
   "execution_count": 31,
   "metadata": {},
   "outputs": [
    {
     "name": "stdout",
     "output_type": "stream",
     "text": [
      "Checking practice jacobian\n",
      "Delta angle [-0.03200665], should be -0.32\n",
      "New point and moved point should be the close to the same\n",
      "Old point: [2.940199733523725, 0.5960079923851836]\n",
      "New pt: [2.9301997335237253, 0.49600799238518367]\n",
      "Moved pt: [2.9577668188511104, 0.5016128440374932]\n",
      "Passed practice jacobian test\n"
     ]
    }
   ],
   "source": [
    "# Do this first to make sure you know how to calculate a Jacobian for 1 link\n",
    "#  There's additional prints that print out the angle, moved point, etc.\n",
    "print(\"Checking practice jacobian\")\n",
    "ang = ik_jacobian.practice_jacobian()\n",
    "exp_ang = -0.032\n",
    "if not np.isclose(ang, exp_ang, atol=0.01):\n",
    "    print(f\"Practice jacobian: Expected {exp_ang}, got {ang}\")\n",
    "else:\n",
    "    print(f\"Passed practice jacobian test\")"
   ]
  },
  {
   "cell_type": "raw",
   "metadata": {},
   "source": [
    "# END SOLUTION"
   ]
  },
  {
   "cell_type": "raw",
   "metadata": {},
   "source": [
    "# BEGIN TESTS"
   ]
  },
  {
   "cell_type": "code",
   "execution_count": 32,
   "metadata": {},
   "outputs": [],
   "source": [
    "assert(np.isclose(ang, exp_ang, atol=0.01))"
   ]
  },
  {
   "cell_type": "raw",
   "metadata": {},
   "source": [
    "# END TESTS"
   ]
  },
  {
   "cell_type": "raw",
   "metadata": {},
   "source": [
    "# END QUESTION"
   ]
  },
  {
   "cell_type": "raw",
   "metadata": {},
   "source": [
    "# BEGIN QUESTION\n",
    "name: jacobian\n",
    "points: 3"
   ]
  },
  {
   "cell_type": "markdown",
   "metadata": {},
   "source": [
    "## Calculate jacobian\n",
    "You need to do one of calculate_jacobian_numerically or calculate_jacobian (from matrices). Doing both will win you prizes and acclaim (and extra credit)"
   ]
  },
  {
   "cell_type": "raw",
   "metadata": {},
   "source": [
    "# BEGIN SOLUTION"
   ]
  },
  {
   "cell_type": "markdown",
   "metadata": {},
   "source": [
    "### Setup the arm geometry/angles"
   ]
  },
  {
   "cell_type": "code",
   "execution_count": 33,
   "metadata": {},
   "outputs": [],
   "source": [
    "# Create the arm geometry\n",
    "base_size_param = (1.0, 0.5)\n",
    "link_sizes_param = [(0.5, 0.25), (0.3, 0.1), (0.2, 0.05)]\n",
    "palm_width_param = 0.1\n",
    "finger_size_param = (0.075, 0.025)\n",
    "\n",
    "arm_geometry = afk.create_arm_geometry(base_size_param, link_sizes_param, palm_width_param, finger_size_param)\n",
    "\n",
    "# Set some initial angles\n",
    "angles_check = [0.0, np.pi/4, 0, [-np.pi/4.0, np.pi/4.0, -np.pi/4.0]]\n",
    "afk.set_angles_of_arm_geometry(arm_geometry, angles_check)\n",
    "\n",
    "# The location to reach for\n",
    "target = (0.5, 1.5)"
   ]
  },
  {
   "cell_type": "code",
   "execution_count": 36,
   "metadata": {},
   "outputs": [],
   "source": [
    "### Numerical calculation check"
   ]
  },
  {
   "cell_type": "code",
   "execution_count": 39,
   "metadata": {},
   "outputs": [
    {
     "name": "stdout",
     "output_type": "stream",
     "text": [
      "Passed numerical jacob test\n"
     ]
    }
   ],
   "source": [
    "# First check - calculating the jacobian (2 x 4 matrix) calculated numerically\n",
    "jacob_numerical = ik_jacobian.calculate_jacobian_numerically(arm_geometry, angles_check)\n",
    "exp_jacob = np.array([[-0.9098, -0.4098, -0.1977, -0.0562], [-0.3535, -0.3535, -0.1414, 0.0]])\n",
    "if not np.all(np.isclose(jacob_numerical, exp_jacob, atol=0.01)):\n",
    "    print(f\"Expected jacob\\n{exp_jacob}, got\\n{jacob}\\n{np.isclose(jacob, exp_jacob, atol=0.01)}\")\n",
    "else:\n",
    "    print(\"Passed numerical jacob test\")"
   ]
  },
  {
   "cell_type": "code",
   "execution_count": null,
   "metadata": {},
   "outputs": [],
   "source": [
    "### Matrix calculation check"
   ]
  },
  {
   "cell_type": "code",
   "execution_count": 40,
   "metadata": {},
   "outputs": [
    {
     "name": "stdout",
     "output_type": "stream",
     "text": [
      "Passed matrix jacob test\n"
     ]
    }
   ],
   "source": [
    "# Second check (optional) - calculating the jacobian using matrices (2 x 4 matrix)\n",
    "jacob_matrix = ik_jacobian.calculate_jacobian(arm_geometry, angles_check)\n",
    "if not np.all(np.isclose(jacob_matrix, exp_jacob, atol=0.01)):\n",
    "    print(f\"Expected jacob\\n{exp_jacob}, got\\n{jacob}\\n{np.isclose(jacob, exp_jacob, atol=0.01)}\")\n",
    "else:\n",
    "    print(\"Passed matrix jacob test\")"
   ]
  },
  {
   "cell_type": "raw",
   "metadata": {},
   "source": [
    "# END SOLUTION"
   ]
  },
  {
   "cell_type": "raw",
   "metadata": {},
   "source": [
    "# BEGIN TESTS"
   ]
  },
  {
   "cell_type": "code",
   "execution_count": 41,
   "metadata": {},
   "outputs": [],
   "source": [
    "assert(np.all(np.isclose(jacob_numerical, exp_jacob, atol=0.01)) or np.all(np.isclose(jacob_matrix, exp_jacob, atol=0.01)))"
   ]
  },
  {
   "cell_type": "raw",
   "metadata": {},
   "source": [
    "# END TESTS"
   ]
  },
  {
   "cell_type": "raw",
   "metadata": {},
   "source": [
    "# END QUESTION"
   ]
  },
  {
   "cell_type": "raw",
   "metadata": {},
   "source": [
    "# BEGIN QUESTION\n",
    "name: solve_jacobian\n",
    "points: 2"
   ]
  },
  {
   "cell_type": "markdown",
   "metadata": {},
   "source": [
    "## Do the pseudo inverse\n",
    "Do the pseudo inverse (solve_jacobian) to solve for a set of angle changes given a set of x,y changes"
   ]
  },
  {
   "cell_type": "raw",
   "metadata": {},
   "source": [
    "# BEGIN SOLUTION"
   ]
  },
  {
   "cell_type": "code",
   "execution_count": 42,
   "metadata": {},
   "outputs": [
    {
     "name": "stdout",
     "output_type": "stream",
     "text": [
      "Passed solve jacobian test\n"
     ]
    }
   ],
   "source": [
    "# Third check - pseudo inverse 1 x 5 matrix of angle changes needed to get the desired x,y change\n",
    "delta_angles = ik_jacobian.solve_jacobian(np.array(exp_jacob), np.array([0.5, -0.2]))\n",
    "exp_delta_angles = np.array([-1.456, 1.819,  0.506, -0.368])\n",
    "if not np.all(np.isclose(delta_angles, exp_delta_angles, atol=0.01)):\n",
    "    print(f\"Expected delta angles\\n{exp_delta_angles}, got\\n{delta_angles}\")\n",
    "else:\n",
    "    print(\"Passed solve jacobian test\")"
   ]
  },
  {
   "cell_type": "raw",
   "metadata": {},
   "source": [
    "# END SOLUTION"
   ]
  },
  {
   "cell_type": "raw",
   "metadata": {},
   "source": [
    "# BEGIN TESTS"
   ]
  },
  {
   "cell_type": "code",
   "execution_count": 44,
   "metadata": {},
   "outputs": [],
   "source": [
    "assert(np.all(np.isclose(delta_angles, exp_delta_angles, atol=0.01)))"
   ]
  },
  {
   "cell_type": "raw",
   "metadata": {},
   "source": [
    "# END TESTS"
   ]
  },
  {
   "cell_type": "raw",
   "metadata": {},
   "source": [
    "# END QUESTION"
   ]
  },
  {
   "cell_type": "raw",
   "metadata": {},
   "source": [
    "# BEGIN QUESTION\n",
    "name: jacobian_descent\n",
    "points: 4"
   ]
  },
  {
   "cell_type": "markdown",
   "metadata": {},
   "source": [
    "## Use the Jacobian to move the gripper closer to the goal\n",
    "Edit the code in jacobian_descent (which is very similar to gradient_descent). The checks *should* work with either the numerical or matrix jacobian."
   ]
  },
  {
   "cell_type": "raw",
   "metadata": {},
   "source": [
    "# BEGIN SOLUTION"
   ]
  },
  {
   "cell_type": "code",
   "execution_count": 46,
   "metadata": {},
   "outputs": [],
   "source": [
    "# Main check - do we get out the new angles? Note, this assumes that you haven't changed up the step size\n",
    "b_succ, angles_new, count = ik_jacobian.jacobian_descent(arm_geometry, angles_check, target, b_one_step=True)\n",
    "ang_exp = [-1.483, 1.905, 0.2721, [-1.078, 0, 0]]\n",
    "if not len(angles_new) == 4:\n",
    "    print(f\"Expected {ang_exp}, got {angles_new}\")\n",
    "for a1, a2 in zip(angles_new, ang_exp):\n",
    "    if not np.all(np.isclose(a1, a2, atol=0.01)):\n",
    "        print(f\"Expected {a1} got {a2}\")\n",
    "if not b_succ:\n",
    "    print(f\"Expected successful/improvement, got none\")"
   ]
  },
  {
   "cell_type": "markdown",
   "metadata": {},
   "source": [
    "### Run full loop until stopping criteria met"
   ]
  },
  {
   "cell_type": "code",
   "execution_count": 49,
   "metadata": {},
   "outputs": [
    {
     "name": "stdout",
     "output_type": "stream",
     "text": [
      "Passed full solve check, dist 0.062\n"
     ]
    }
   ],
   "source": [
    "b_succ, angles_new, count = ik_jacobian.jacobian_descent(arm_geometry, angles_check, target, b_one_step=False)\n",
    "afk.set_angles_of_arm_geometry(arm_geometry, angles_new)\n",
    "dist = ik_gradient.distance_to_goal(arm_geometry, target)\n",
    "if not b_succ:\n",
    "    print(f\"Expected successful/improvement, got none\")\n",
    "elif not np.isclose(dist, 0.062, atol=0.01):\n",
    "    print(f\"Expected distance to be close to 0.063, got {dist}, count {count}\")\n",
    "else: \n",
    "    print(f\"Passed full solve check, dist {dist:0.2}\")"
   ]
  },
  {
   "cell_type": "markdown",
   "metadata": {},
   "source": [
    "Plot before and after - you can move this block around if you want"
   ]
  },
  {
   "cell_type": "code",
   "execution_count": 50,
   "metadata": {},
   "outputs": [
    {
     "data": {
      "text/plain": [
       "Text(0.5, 1.0, 'After Jacobian descent count 46 dist 0.062')"
      ]
     },
     "execution_count": 50,
     "metadata": {},
     "output_type": "execute_result"
    },
    {
     "data": {
      "image/png": "[encoded data removed]",
      "text/plain": [
       "<Figure size 864x432 with 2 Axes>"
      ]
     },
     "metadata": {
      "needs_background": "light"
     },
     "output_type": "display_data"
    }
   ],
   "source": [
    "# Plot so you can see what it should look like\n",
    "fig, axs = plt.subplots(1, 2, figsize=(12, 6))\n",
    "\n",
    "for i, a in enumerate([angles_check, angles_new]):\n",
    "    # Actually get the matrices\n",
    "    afk.set_angles_of_arm_geometry(arm_geometry, a)\n",
    "    matrices = afk.get_matrices_all_links(arm_geometry)\n",
    "    afk.plot_complete_arm(axs[i], arm_geometry, matrices)\n",
    "\n",
    "    # Plot target too\n",
    "    axs[i].plot(target[0], target[1], '+r')\n",
    "\n",
    "axs[0].set_title(\"Before Jacobian descent\")\n",
    "axs[1].set_title(f\"After Jacobian descent count {count} dist {dist:0.2}\")"
   ]
  },
  {
   "cell_type": "raw",
   "metadata": {},
   "source": [
    "# END SOLUTION"
   ]
  },
  {
   "cell_type": "raw",
   "metadata": {},
   "source": [
    "# BEGIN TESTS"
   ]
  },
  {
   "cell_type": "code",
   "execution_count": 54,
   "metadata": {},
   "outputs": [],
   "source": [
    "assert(test_reach_target(ik_jacobian.jacobian_descent))"
   ]
  },
  {
   "cell_type": "raw",
   "metadata": {},
   "source": [
    "# END TESTS"
   ]
  },
  {
   "cell_type": "raw",
   "metadata": {},
   "source": [
    "# END QUESTION"
   ]
  },
  {
   "cell_type": "raw",
   "metadata": {},
   "source": [
    "# BEGIN QUESTION\n",
    "name: hours_collaborators\n",
    "points: 1"
   ]
  },
  {
   "cell_type": "markdown",
   "metadata": {},
   "source": [
    "## Hours and collaborators\n",
    "Required for every assignment - fill out before you hand-in.\n",
    "\n",
    "Listing names and websites helps you to document who you worked with and what internet help you received in the case of any plagiarism issues. You should list names of anyone (in class or not) who has substantially helped you with an assignment - or anyone you have *helped*. You do not need to list TAs.\n",
    "\n",
    "Listing hours helps us track if the assignments are too long."
   ]
  },
  {
   "cell_type": "raw",
   "metadata": {},
   "source": [
    "# BEGIN SOLUTION"
   ]
  },
  {
   "cell_type": "code",
   "execution_count": 1,
   "metadata": {},
   "outputs": [
    {
     "data": {
      "text/plain": [
       "' # BEGIN PROMPT\\n# List of names (creates a set)\\nworked_with_names = {\"not filled out\"}\\n# List of URLS (creates a set)\\nwebsites = {\"not filled out\"}\\n# Approximate number of hours, including lab/in-class time\\nhours = -1.5\\n\\n# for all row, column in all_indices_from_where\\n#.   if this is the column for wrist torque \\n#.      print(f\"Row: {r}, Time step: {c // n_time_steps} Successful y/n: {pick_data[r, -1] == 1}, value: {pick_data[r, c]}\")\\n'"
      ]
     },
     "execution_count": 1,
     "metadata": {},
     "output_type": "execute_result"
    }
   ],
   "source": [
    "# BEGIN SOLUTION NO PROMPT\n",
    "worked_with_names = {}\n",
    "websites = {}\n",
    "hours = 4\n",
    "\n",
    "# END SOLUTION\n",
    "\n",
    "\"\"\" # BEGIN PROMPT\n",
    "# List of names (creates a set)\n",
    "worked_with_names = {\"not filled out\"}\n",
    "# List of URLS (creates a set)\n",
    "websites = {\"not filled out\"}\n",
    "# Approximate number of hours, including lab/in-class time\n",
    "hours = -1.5\n",
    "\n",
    "# for all row, column in all_indices_from_where\n",
    "#.   if this is the column for wrist torque \n",
    "#.      print(f\"Row: {r}, Time step: {c // n_time_steps} Successful y/n: {pick_data[r, -1] == 1}, value: {pick_data[r, c]}\")\n",
    "\"\"\" # END PROMPT"
   ]
  },
  {
   "cell_type": "raw",
   "metadata": {},
   "source": [
    "# END SOLUTION"
   ]
  },
  {
   "cell_type": "raw",
   "metadata": {},
   "source": [
    "# BEGIN TESTS"
   ]
  },
  {
   "cell_type": "code",
   "execution_count": 2,
   "metadata": {},
   "outputs": [],
   "source": [
    "assert(not \"not filled out\" in worked_with_names)"
   ]
  },
  {
   "cell_type": "code",
   "execution_count": 3,
   "metadata": {},
   "outputs": [],
   "source": [
    "assert(not \"not filled out\" in websites)"
   ]
  },
  {
   "cell_type": "code",
   "execution_count": null,
   "metadata": {},
   "outputs": [],
   "source": [
    "assert(hours > 0)"
   ]
  },
  {
   "cell_type": "raw",
   "metadata": {},
   "source": [
    "# END TESTS"
   ]
  },
  {
   "cell_type": "raw",
   "metadata": {},
   "source": [
    "# END QUESTION"
   ]
  },
  {
   "cell_type": "markdown",
   "metadata": {
    "deletable": false,
    "editable": false
   },
   "source": [
    "---\n",
    "\n",
    "To double-check your work, the cell below will rerun all of the autograder tests."
   ]
  },
  {
   "cell_type": "code",
   "execution_count": null,
   "metadata": {
    "deletable": false,
    "editable": false
   },
   "outputs": [],
   "source": [
    "grader.check_all()"
   ]
  },
  {
   "cell_type": "markdown",
   "metadata": {
    "deletable": false,
    "editable": false
   },
   "source": [
    "## Submission\n",
    "\n",
    "Make sure you have run all cells in your notebook in order before running the cell below, so that all images/graphs appear in the output. The cell below will generate a zip file for you to submit. **Please save before exporting!**"
   ]
  },
  {
   "cell_type": "code",
   "execution_count": null,
   "metadata": {
    "deletable": false,
    "editable": false
   },
   "outputs": [],
   "source": [
    "# Save your notebook first, then run this cell to export your submission.\n",
    "grader.export()"
   ]
  },
  {
   "cell_type": "markdown",
   "metadata": {},
   "source": [
    " "
   ]
  }
 ],
 "metadata": {
  "kernelspec": {
   "display_name": "Python 3",
   "language": "python",
   "name": "python3"
  },
  "language_info": {
   "codemirror_mode": {
    "name": "ipython",
    "version": 3
   },
   "file_extension": ".py",
   "mimetype": "text/x-python",
   "name": "python",
   "nbconvert_exporter": "python",
   "pygments_lexer": "ipython3",
   "version": "3.7.4"
  }
 },
 "nbformat": 4,
 "nbformat_minor": 2
}
