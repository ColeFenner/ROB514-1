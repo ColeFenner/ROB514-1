{
 "cells": [
  {
   "cell_type": "raw",
   "metadata": {},
   "source": [
    "# ASSIGNMENT CONFIG\n",
    "requirements: ../requirements.txt\n",
    "solutions_pdf: true\n",
    "export_cell:\n",
    "    instructions: \"Submit through gradescope, Lecture activity 2 plotting. Submit just the .ipynb file - the data files will be included for you\"\n",
    "    pdf: true\n",
    "    run_tests: true\n",
    "    show_question_points: true\n",
    "files:\n",
    "    - Data/proxy_pick_data.csv\n",
    "    - Data/proxy_data_description.json\n",
    "    - Data/Week1_check_results.json\n",
    "generate: \n",
    "    pdf: true\n",
    "    points_possible: 5\n",
    "    filtering: true\n",
    "    pagebreaks: true\n",
    "    zips: false"
   ]
  },
  {
   "cell_type": "markdown",
   "metadata": {},
   "source": [
    "# Lecture goals\n",
    "\n",
    "1. Understand the difference between a figure/window and a plotting area/subplot/axes\n",
    "2. Be able to create a figure with subplots in it\n",
    "3. Plot something in the subplot and label it\n",
    "4. Pass parameters to functions by both position and name\n",
    "\n",
    "Note: To see what the correct result should look like, see Lab lecture https://docs.google.com/presentation/d/1IiGGUNet-4Nj07x2cTXU6IOYXy9TSdAF5OUWCCKIYEM/edit?usp=sharing"
   ]
  },
  {
   "cell_type": "code",
   "execution_count": null,
   "metadata": {},
   "outputs": [],
   "source": [
    "# Access all numpy functions as np.\n",
    "import numpy as np\n",
    "import matplotlib.pyplot as plt\n",
    "%matplotlib inline\n",
    "import json as json"
   ]
  },
  {
   "cell_type": "raw",
   "metadata": {},
   "source": [
    "# BEGIN QUESTION\n",
    "name: Read data\n",
    "points: 1"
   ]
  },
  {
   "cell_type": "markdown",
   "metadata": {},
   "source": [
    "## Read data\n",
    "\n",
    "TODO: Read in the data from lab 1/hwk 1. Note that this folder also has a Data folder in it with the same data files, so you should be able to just copy your code from week 1"
   ]
  },
  {
   "cell_type": "raw",
   "metadata": {},
   "source": [
    "# BEGIN SOLUTION"
   ]
  },
  {
   "cell_type": "code",
   "execution_count": null,
   "metadata": {},
   "outputs": [],
   "source": [
    "# Note: your repository is set up to have a copy of the Data files in this folder as well as the Week_1_arrays\n",
    "#. folder - this is so the autograder works correctly.  \n",
    "pick_data = np.loadtxt(\"Data/proxy_pick_data.csv\", dtype=\"float\", delimiter=\",\")\n",
    "\n",
    "# Load in the proxy_pick_data_description.json file\n",
    "# BEGIN SOLUTION NO PROMPT\n",
    "try:\n",
    "    # We're using this one because it already has the data in it that we need\n",
    "    with open(\"Data/week1_check_results.json\", \"r\") as fp:\n",
    "        pick_data_description = json.load(fp)\n",
    "except FileNotFoundError:\n",
    "    print(f\"The file was not found; check that the Data directory is in the current one and the file is in that directory\")\n",
    "# END SOLUTION\n",
    "\n",
    "\"\"\" # BEGIN PROMPT\n",
    "pick_data_description = ...\n",
    "\"\"\" # END PROMPT"
   ]
  },
  {
   "cell_type": "raw",
   "metadata": {},
   "source": [
    "# END SOLUTION"
   ]
  },
  {
   "cell_type": "raw",
   "metadata": {},
   "source": [
    "# BEGIN TESTS"
   ]
  },
  {
   "cell_type": "code",
   "execution_count": null,
   "metadata": {},
   "outputs": [],
   "source": [
    "assert(pick_data.size == 871860)"
   ]
  },
  {
   "cell_type": "code",
   "execution_count": null,
   "metadata": {},
   "outputs": [],
   "source": [
    "assert(len(pick_data_description[\"Data channels\"]) == 17)"
   ]
  },
  {
   "cell_type": "raw",
   "metadata": {},
   "source": [
    "# END TESTS"
   ]
  },
  {
   "cell_type": "raw",
   "metadata": {},
   "source": [
    "# END QUESTION"
   ]
  },
  {
   "cell_type": "raw",
   "metadata": {},
   "source": [
    "# BEGIN QUESTION\n",
    "name: Get data\n",
    "points: 2"
   ]
  },
  {
   "cell_type": "markdown",
   "metadata": {},
   "source": [
    "## Get data\n",
    "\n",
    "TODO: Get the Wrist **torque** z channel for the first row of pick data (y values). Create the t values (x values). Refer to lab 1 for how get out the data (it's the same data).\n",
    "\n",
    "For the **t** values, assume the data is sampled at 30 Hz, i.e., the time sampling is 1/30th of a second\n",
    "\n",
    "- Step 1: How big does the t array have to be? (hint: How many data samples are there for the wrist force data?)\n",
    "- Step 2: How do you make an array of that size with that spacing? (hint: **np.arange**)\n"
   ]
  },
  {
   "cell_type": "raw",
   "metadata": {},
   "source": [
    "# BEGIN SOLUTION"
   ]
  },
  {
   "cell_type": "code",
   "execution_count": null,
   "metadata": {},
   "outputs": [],
   "source": [
    "# TODO: Create a numpy array that starts at 0, ends at number of time steps * time_step, and has step size time_step\n",
    "#   See np.arange\n",
    "#.  See lab 1 for how to calculate the number of time steps\n",
    "# BEGIN SOLUTION NO PROMPT\n",
    "time_step = 1.0 / 30   # Seconds\n",
    "ts = np.arange(start=0, stop=pick_data_description[\"n_time_steps\"] * time_step, step=time_step)\n",
    "\n",
    "# I'd recommend getting the dictionary that has the wrist offset information here\n",
    "wrist_force_channel_data = pick_data_description[\"Data channels\"][1]\n",
    "\n",
    "# Now get out the actual data - it might be handy here to get the data out and assign it to a variable, just to make\n",
    "#  sure it's the right thing\n",
    "start_index = wrist_force_channel_data[\"index_offset\"]\n",
    "\n",
    "# Extract the data from pick_data and put it in a variable y_data\n",
    "# END SOLUTION\n",
    "\n",
    "\"\"\" # BEGIN PROMPT\n",
    "# TODO Set up the time (x axis) data \n",
    "time_step = ...   # This is 1/30th of a second\n",
    "n_time_steps = ... # This is the number of time steps/data samples\n",
    "# Use the above, with np.arrange, to create the t values\n",
    "ts = ...\n",
    "\"\"\" # END PROMPT\n",
    "\n",
    "# BEGIN SOLUTION NO PROMPT\n",
    "y_data = pick_data[0, start_index::pick_data_description[\"n_total_dims\"]]\n",
    "# END SOLUTION\n",
    "\n",
    "\"\"\" # BEGIN PROMPT\n",
    "# TODO: Use slicing to get the y data out of pick_data\n",
    "y_data = ... \n",
    "\"\"\" # END PROMPT\n",
    "\n",
    "# Use this to check that your data is the right size - both should be of size 40\n",
    "print(ts.size)\n",
    "print(y_data.size)\n"
   ]
  },
  {
   "cell_type": "raw",
   "metadata": {},
   "source": [
    "# END SOLUTION"
   ]
  },
  {
   "cell_type": "raw",
   "metadata": {},
   "source": [
    "# BEGIN TESTS"
   ]
  },
  {
   "cell_type": "code",
   "execution_count": null,
   "metadata": {},
   "outputs": [],
   "source": [
    "assert(ts.size == 40)"
   ]
  },
  {
   "cell_type": "code",
   "execution_count": null,
   "metadata": {},
   "outputs": [],
   "source": [
    "assert(y_data.size == 40)"
   ]
  },
  {
   "cell_type": "code",
   "execution_count": null,
   "metadata": {},
   "outputs": [],
   "source": [
    "assert(np.isclose(ts[0], 0.0))"
   ]
  },
  {
   "cell_type": "code",
   "execution_count": null,
   "metadata": {},
   "outputs": [],
   "source": [
    "assert(np.isclose(ts[-1], 1.3))"
   ]
  },
  {
   "cell_type": "code",
   "execution_count": null,
   "metadata": {},
   "outputs": [],
   "source": [
    "assert(np.isclose(y_data[0], -0.26818306))"
   ]
  },
  {
   "cell_type": "code",
   "execution_count": null,
   "metadata": {},
   "outputs": [],
   "source": [
    "assert(np.isclose(y_data[-1], -0.43396691))"
   ]
  },
  {
   "cell_type": "raw",
   "metadata": {},
   "source": [
    "# END TESTS"
   ]
  },
  {
   "cell_type": "raw",
   "metadata": {},
   "source": [
    "# END QUESTION"
   ]
  },
  {
   "cell_type": "raw",
   "metadata": {},
   "source": [
    "# BEGIN QUESTION\n",
    "name: Plot data\n",
    "points: 2"
   ]
  },
  {
   "cell_type": "markdown",
   "metadata": {},
   "source": [
    "## Plot data\n",
    "\n",
    "TODO: Plot the ts and ys values. Make sure to add x and y labels, along with a title."
   ]
  },
  {
   "cell_type": "raw",
   "metadata": {},
   "source": [
    "# BEGIN SOLUTION"
   ]
  },
  {
   "cell_type": "markdown",
   "metadata": {},
   "source": [
    "## Plot\n",
    "Now actually plot the data. TODO:\n",
    "- Include a legend\n",
    "- Label the x axes with time\n",
    "- Label the y axes with the units given in the json file\n",
    "- Title it with the name of the data channel\n",
    "\n",
    "To do this cleanly, get the units/name from the **pick_data_description** variable."
   ]
  },
  {
   "cell_type": "code",
   "execution_count": null,
   "metadata": {},
   "outputs": [],
   "source": [
    "# Create the plotting window. Use subplots.\n",
    "nrows = 1\n",
    "ncols = 1\n",
    "# BEGIN SOLUTION NO PROMPT\n",
    "fig, axs = plt.subplots(nrows, ncols, figsize=(6, 3))\n",
    "\n",
    "axs.plot(ts, y_data, '-b', label=wrist_force_channel_data[\"name\"] + \", z\")\n",
    "\n",
    "# Now label the figure (x label, y label, title).\n",
    "#   Note: The units for each data channel are in proxy_data_description.json\n",
    "axs.set_xlabel('Time (seconds)')\n",
    "axs.set_ylabel(wrist_force_channel_data[\"units\"])\n",
    "axs.set_title(wrist_force_channel_data['name'])\n",
    "axs.legend()\n",
    "# END SOLUTION\n",
    "\n",
    "\"\"\" # BEGIN PROMPT\n",
    "fig, axs = ...\n",
    "\"\"\" # END PROMPT"
   ]
  },
  {
   "cell_type": "raw",
   "metadata": {},
   "source": [
    "# END SOLUTION"
   ]
  },
  {
   "cell_type": "raw",
   "metadata": {},
   "source": [
    "# BEGIN TESTS"
   ]
  },
  {
   "cell_type": "code",
   "execution_count": null,
   "metadata": {},
   "outputs": [],
   "source": [
    "assert(ts.shape == y_data.shape)"
   ]
  },
  {
   "cell_type": "code",
   "execution_count": null,
   "metadata": {},
   "outputs": [],
   "source": [
    "assert(\"s\" in axs.get_xlabel())"
   ]
  },
  {
   "cell_type": "code",
   "execution_count": null,
   "metadata": {},
   "outputs": [],
   "source": [
    "assert(\"N.m\" in axs.get_ylabel())"
   ]
  },
  {
   "cell_type": "code",
   "execution_count": null,
   "metadata": {},
   "outputs": [],
   "source": [
    "assert(\"Wrist torque\" in axs.get_title())"
   ]
  },
  {
   "cell_type": "raw",
   "metadata": {},
   "source": [
    "# END TESTS"
   ]
  },
  {
   "cell_type": "raw",
   "metadata": {},
   "source": [
    "# END QUESTION"
   ]
  },
  {
   "cell_type": "raw",
   "metadata": {},
   "source": [
    "# BEGIN QUESTION\n",
    "name: hours_collaborators\n",
    "points: 1"
   ]
  },
  {
   "cell_type": "markdown",
   "metadata": {},
   "source": [
    "## Hours and collaborators\n",
    "Required for every assignment - fill out before you hand-in.\n",
    "\n",
    "Listing names and websites helps you to document who you worked with and what internet help you received in the case of any plagiarism issues. You should list names of anyone (in class or not) who has substantially helped you with an assignment - or anyone you have *helped*. You do not need to list TAs.\n",
    "\n",
    "Listing hours helps us track if the assignments are too long."
   ]
  },
  {
   "cell_type": "raw",
   "metadata": {},
   "source": [
    "# BEGIN SOLUTION"
   ]
  },
  {
   "cell_type": "code",
   "execution_count": null,
   "metadata": {},
   "outputs": [],
   "source": [
    "# BEGIN SOLUTION NO PROMPT\n",
    "worked_with_names = {}\n",
    "websites = {}\n",
    "hours = 4\n",
    "\n",
    "# END SOLUTION\n",
    "\n",
    "\"\"\" # BEGIN PROMPT\n",
    "# List of names (creates a set)\n",
    "worked_with_names = {\"not filled out\"}\n",
    "# List of URLS (creates a set)\n",
    "websites = {\"not filled out\"}\n",
    "# Approximate number of hours, including lab/in-class time\n",
    "hours = -1.5\n",
    "\n",
    "# for all row, column in all_indices_from_where\n",
    "#.   if this is the column for wrist torque \n",
    "#.      print(f\"Row: {r}, Time step: {c // n_time_steps} Successful y/n: {pick_data[r, -1] == 1}, value: {pick_data[r, c]}\")\n",
    "\"\"\" # END PROMPT"
   ]
  },
  {
   "cell_type": "raw",
   "metadata": {},
   "source": [
    "# END SOLUTION"
   ]
  },
  {
   "cell_type": "raw",
   "metadata": {},
   "source": [
    "# BEGIN TESTS"
   ]
  },
  {
   "cell_type": "code",
   "execution_count": null,
   "metadata": {},
   "outputs": [],
   "source": [
    "assert(not \"not filled out\" in worked_with_names)"
   ]
  },
  {
   "cell_type": "code",
   "execution_count": null,
   "metadata": {},
   "outputs": [],
   "source": [
    "assert(not \"not filled out\" in websites)"
   ]
  },
  {
   "cell_type": "code",
   "execution_count": null,
   "metadata": {},
   "outputs": [],
   "source": [
    "assert(hours > 0)"
   ]
  },
  {
   "cell_type": "raw",
   "metadata": {},
   "source": [
    "# END TESTS"
   ]
  },
  {
   "cell_type": "raw",
   "metadata": {},
   "source": [
    "# END QUESTION"
   ]
  }
 ],
 "metadata": {
  "kernelspec": {
   "display_name": "Python 3",
   "language": "python",
   "name": "python3"
  },
  "language_info": {
   "codemirror_mode": {
    "name": "ipython",
    "version": 3
   },
   "file_extension": ".py",
   "mimetype": "text/x-python",
   "name": "python",
   "nbconvert_exporter": "python",
   "pygments_lexer": "ipython3",
   "version": "3.7.4"
  }
 },
 "nbformat": 4,
 "nbformat_minor": 2
}
