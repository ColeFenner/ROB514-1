{
 "cells": [
  {
   "cell_type": "raw",
   "metadata": {},
   "source": [
    "# ASSIGNMENT CONFIG\n",
    "requirements: ../requirements.txt\n",
    "solutions_pdf: true\n",
    "export_cell:\n",
    "    instructions: \"Submit through gradescope, Lecture activity 5: Matrices. Include just the .ipynb file - the data files, matrix_routines.py, and object_routines.py will be included for you.\"\n",
    "files:\n",
    "    - Data/Square.json\n",
    "    - Data/Wedge.json\n",
    "    - Data/Star.json\n",
    "    - matrix_routines.py\n",
    "    - object_routines.py\n",
    "generate: \n",
    "    pdf: true\n",
    "    points_possible: 1\n",
    "    filtering: true\n",
    "    pagebreaks: true\n",
    "    zips: false"
   ]
  },
  {
   "cell_type": "markdown",
   "metadata": {},
   "source": [
    "# Using matrices\n",
    "\n",
    "Make a \"picture\" by drawing multiple copies of an object using matrices to move/scale/rotate the object\n",
    "\n",
    "Requirements:\n",
    "- Must include at least one for loop OR\n",
    "- Multiple uses of rotations/translations\n",
    "- At least one compound transformation (eg, a scale and a translation)\n",
    "\n",
    "Given to you:\n",
    "- functions to make matrices of the three different types\n",
    "- Plotting code\n",
    "- Read/write \"objects\" code\n",
    "- A square and a wedge and a star object\n",
    "\n",
    "Optional:\n",
    "- You can use the function make_object_by_clicking in object_routines to make a novel object\n",
    "- make sure to include that object's file when you hand in\n",
    "\n",
    "\n"
   ]
  },
  {
   "cell_type": "code",
   "execution_count": null,
   "metadata": {},
   "outputs": [],
   "source": [
    "import numpy as np\n",
    "import matplotlib.pyplot as plt\n",
    "# Slightly different import format here - this gets just those routines by name (no mr.)\n",
    "from matrix_routines import make_scale_matrix, make_translation_matrix, make_rotation_matrix\n",
    "from object_routines import read_object, make_object_by_clicking, plot_object_in_world_coord_system\n",
    "\n",
    "# These commands will force JN to actually re-load the external file when you re-execute the import command\n",
    "%load_ext autoreload\n",
    "%autoreload 2"
   ]
  },
  {
   "cell_type": "raw",
   "metadata": {},
   "source": [
    "# BEGIN QUESTION\n",
    "name: make_scene\n",
    "manual: True"
   ]
  },
  {
   "cell_type": "markdown",
   "metadata": {},
   "source": [
    "# Make scene\n",
    "\n",
    "TODO: Edit the code to do \"more\" (see requirements)"
   ]
  },
  {
   "cell_type": "raw",
   "metadata": {},
   "source": [
    "# BEGIN SOLUTION"
   ]
  },
  {
   "cell_type": "code",
   "execution_count": null,
   "metadata": {},
   "outputs": [],
   "source": [
    "def make_scene():\n",
    "    # initial \"scene\"\n",
    "    # TODO do something else\n",
    "    sq = read_object(\"Square\")\n",
    "    star = read_object(\"Star\")\n",
    "\n",
    "    fig, axs = plt.subplots(1, 1)\n",
    "\n",
    "    plot_object_in_world_coord_system(axs, sq)\n",
    "    # Option 1: Store the matrix in the object before calling plot\n",
    "    cols = [\"azure\", \"aqua\", \"cyan\", \"skyblue\", \"dodgerblue\"]\n",
    "    for col, dt in zip(cols, np.linspace(0, 2 * np.pi, 5)):\n",
    "        star[\"Color\"] = col\n",
    "        star[\"Matrix\"] = make_translation_matrix(np.cos(dt), np.sin(dt))\n",
    "        plot_object_in_world_coord_system(axs, star)\n",
    "\n",
    "    # Option 2: Use the global matrix to move the object around\n",
    "    star[\"Color\"] = \"red\"\n",
    "    star[\"Matrix\"] = np.identity(3)\n",
    "    for ds in [0.25, 0.5, 1.0, 1.25]:\n",
    "        plot_object_in_world_coord_system(axs, star, make_scale_matrix(ds, 1.0))\n"
   ]
  },
  {
   "cell_type": "code",
   "execution_count": null,
   "metadata": {},
   "outputs": [],
   "source": [
    "make_scene()"
   ]
  },
  {
   "cell_type": "markdown",
   "metadata": {},
   "source": [
    "# Use this to make a new object\n",
    "Note: This will not work on all JN's. To close the object/get it write, just click on the first point again. You'll see it output (it writes it to the file Data/name.json). After you create the object you should be able to read it in using **read_object(\"name\")**."
   ]
  },
  {
   "cell_type": "code",
   "execution_count": null,
   "metadata": {},
   "outputs": [],
   "source": [
    "%matplotlib notebook\n",
    "use_name = \"name\"\n",
    "make_object_by_clicking(use_name)"
   ]
  },
  {
   "cell_type": "raw",
   "metadata": {},
   "source": [
    "# END SOLUTION"
   ]
  },
  {
   "cell_type": "raw",
   "metadata": {},
   "source": [
    "# END QUESTION"
   ]
  },
  {
   "cell_type": "raw",
   "metadata": {},
   "source": [
    "# BEGIN QUESTION\n",
    "name: hours_collaborators\n",
    "points: 1"
   ]
  },
  {
   "cell_type": "markdown",
   "metadata": {},
   "source": [
    "## Hours and collaborators\n",
    "Required for every assignment - fill out before you hand-in.\n",
    "\n",
    "Listing names and websites helps you to document who you worked with and what internet help you received in the case of any plagiarism issues. You should list names of anyone (in class or not) who has substantially helped you with an assignment - or anyone you have *helped*. You do not need to list TAs.\n",
    "\n",
    "Listing hours helps us track if the assignments are too long."
   ]
  },
  {
   "cell_type": "raw",
   "metadata": {},
   "source": [
    "# BEGIN SOLUTION"
   ]
  },
  {
   "cell_type": "code",
   "execution_count": null,
   "metadata": {},
   "outputs": [],
   "source": [
    "# BEGIN SOLUTION NO PROMPT\n",
    "worked_with_names = {}\n",
    "websites = {}\n",
    "hours = 4\n",
    "\n",
    "# END SOLUTION\n",
    "\n",
    "\"\"\" # BEGIN PROMPT\n",
    "# List of names (creates a set)\n",
    "worked_with_names = {\"not filled out\"}\n",
    "# List of URLS (creates a set)\n",
    "websites = {\"not filled out\"}\n",
    "# Approximate number of hours, including lab/in-class time\n",
    "hours = -1.5\n",
    "\n",
    "# for all row, column in all_indices_from_where\n",
    "#.   if this is the column for wrist torque \n",
    "#.      print(f\"Row: {r}, Time step: {c // n_time_steps} Successful y/n: {pick_data[r, -1] == 1}, value: {pick_data[r, c]}\")\n",
    "\"\"\" # END PROMPT"
   ]
  },
  {
   "cell_type": "raw",
   "metadata": {},
   "source": [
    "# END SOLUTION"
   ]
  },
  {
   "cell_type": "raw",
   "metadata": {},
   "source": [
    "# BEGIN TESTS"
   ]
  },
  {
   "cell_type": "code",
   "execution_count": null,
   "metadata": {},
   "outputs": [],
   "source": [
    "assert(not \"not filled out\" in worked_with_names)"
   ]
  },
  {
   "cell_type": "code",
   "execution_count": null,
   "metadata": {},
   "outputs": [],
   "source": [
    "assert(not \"not filled out\" in websites)"
   ]
  },
  {
   "cell_type": "code",
   "execution_count": null,
   "metadata": {},
   "outputs": [],
   "source": [
    "assert(hours > 0)"
   ]
  },
  {
   "cell_type": "raw",
   "metadata": {},
   "source": [
    "# END TESTS"
   ]
  },
  {
   "cell_type": "raw",
   "metadata": {},
   "source": [
    "# END QUESTION"
   ]
  }
 ],
 "metadata": {
  "kernelspec": {
   "display_name": "Python 3",
   "language": "python",
   "name": "python3"
  },
  "language_info": {
   "codemirror_mode": {
    "name": "ipython",
    "version": 3
   },
   "file_extension": ".py",
   "mimetype": "text/x-python",
   "name": "python",
   "nbconvert_exporter": "python",
   "pygments_lexer": "ipython3",
   "version": "3.7.4"
  }
 },
 "nbformat": 4,
 "nbformat_minor": 2
}
