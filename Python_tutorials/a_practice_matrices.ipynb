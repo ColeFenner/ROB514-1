{
 "cells": [
  {
   "cell_type": "markdown",
   "metadata": {},
   "source": [
    "# Practice with matrices\n",
    "\n",
    "The two examples here are common things that can go wrong when you create a matrix \"incorrectly\". Not that the matrix is actually incorrect (math or syntax), just that it isn't what you (usually) want for moving objects around."
   ]
  },
  {
   "cell_type": "code",
   "execution_count": null,
   "metadata": {},
   "outputs": [],
   "source": [
    "import numpy as np\n",
    "from matplotlib import pyplot as plt\n",
    "\n",
    "# All of the matrix routines are in here - we can import the Python (.py) file just like the imports above\n",
    "#  All of the functions in there will be accessed as mr.\n",
    "import matrix_routines as mr\n",
    "\n",
    "# These commands will force JN to actually re-load the external file when you re-execute the import command\n",
    "%load_ext autoreload\n",
    "%autoreload 2"
   ]
  },
  {
   "cell_type": "markdown",
   "metadata": {},
   "source": [
    "# Example 2: Weird geometry\n",
    "\n",
    "Edit the following function to create mirrored and skewed geometry. There is no \"right\" answer here - there are many ways to create a matrix that mirrors or skews a shape"
   ]
  },
  {
   "cell_type": "code",
   "execution_count": null,
   "metadata": {},
   "outputs": [],
   "source": [
    "def example_weird_geometry():\n",
    "    \"\"\" Create a mirrored and a non-angle preserving example \"\"\"\n",
    "    # Make the plot that shows the difference between rotate-translate and translate-rotate\n",
    "    fig, axs = plt.subplots(1, 2, figsize=(8, 4))\n",
    "\n",
    "    # TODO: Make seq_mirrored so that the x,y axes are flipped, and the x axis is twice as big as it was before.\n",
    "    #  Draw the the flipped geometry at 2.5 2.5\n",
    "    #  (see mirrored figure in slides https://docs.google.com/presentation/d/12p3VOVT5yL14-1z5T20hTscpVC0hsxjtvMLHmQLFITk/edit?usp=sharing)\n",
    "    # Should be a scale followed by a translate\n",
    "    mat_mirror = np.identity(3)\n",
    "\n",
    "    # print(f\"{mat}\")\n",
    "    axs[0].set_title(\"Mirrored\")\n",
    "    mr.plot_axes_and_circle(axs[0], mat_mirror)\n",
    "    mr.plot_zigzag(axs[0], mat_mirror)\n",
    "\n",
    "    # TODO: Make seq_skew so that the axes (red blue) are no longer 90 degrees. There are multiple solutions to this, btw.\n",
    "    #  One of the simplest is to rotate then scale x differently than y\n",
    "    #  Draw the the flipped geometry at 2.5 2.5 (see skewed figure in slides https://docs.google.com/presentation/d/12p3VOVT5yL14-1z5T20hTscpVC0hsxjtvMLHmQLFITk/edit?usp=sharing)\n",
    "    mat_skew = np.identity(3)\n",
    "\n",
    "    # print(f\"{mat_skew}\")\n",
    "    axs[1].set_title(\"Skewed\")\n",
    "    mr.plot_axes_and_circle(axs[1], mat_skew)\n",
    "    mr.plot_zigzag(axs[1], mat_skew)\n"
   ]
  },
  {
   "cell_type": "code",
   "execution_count": null,
   "metadata": {},
   "outputs": [],
   "source": [
    "# Call the example_weird_geometry. It will not be weird until you change the function above\n",
    "example_weird_geometry()"
   ]
  },
  {
   "cell_type": "markdown",
   "metadata": {},
   "source": [
    "# Example 3: Uncentered geometry\n",
    "\n",
    "A more common (and more subtle) problem is that (most of the time) the assumption is that the geometry is centered around the origin - otherwise, when you rotate the object it moves, too."
   ]
  },
  {
   "cell_type": "code",
   "execution_count": null,
   "metadata": {},
   "outputs": [],
   "source": [
    "def example_uncentered_geometry():\n",
    "    \"\"\" Same matrix tranforms - but the object in a different place \"\"\"\n",
    "    # First plot is the \"normal\" one\n",
    "    fig, axs = plt.subplots(1, 4, figsize=(16, 4))\n",
    "\n",
    "    pts_circle = mr.make_pts_representing_circle(25)\n",
    "    pts_zigzag = mr.plot_zigzag(axs[0], np.identity(3))\n",
    "\n",
    "    # TODO: create the pts_circle_* and pts_zigzag_* by\n",
    "    #  Moving the original geometry so that the origin is at the lower left corner of the circle\n",
    "    #  Rotating the original geometry so that the x axis is \"up\"\n",
    "    # Note: You can use the make_x_matrix commands to move the points\n",
    "    pts_circle_lower_left_origin = pts_circle  # Put a matrix before pts_circle\n",
    "    pts_zigzag_lower_left_origin = pts_zigzag\n",
    "\n",
    "    pts_circle_x_up = pts_circle\n",
    "    pts_zigzag_x_up = pts_zigzag\n",
    "\n",
    "    pts_circle_x_up_lower_left_origin = pts_circle\n",
    "    pts_zigzag_x_up_lower_left_origin = pts_zigzag\n",
    "\n",
    "    mat_scl_rot_trans = mr.make_translation_matrix(-1, 2) @ \\\n",
    "                        mr.make_rotation_matrix(np.pi / 3.0) @ \\\n",
    "                        mr.make_scale_matrix(0.5, 0.75)   # pts go here\n",
    "\n",
    "    # First plot - what happens if the circle and zig zag are centered\n",
    "    mr.plot_axes_and_circle(axs[0], mat_scl_rot_trans)\n",
    "    mr.plot_zigzag(axs[0], mat_scl_rot_trans)\n",
    "    axs[0].set_title(\"Geometry centered\")\n",
    "\n",
    "    # Fancy Python looping - create 3 lists, one with the name to put in the title, the second and third\n",
    "    #   with the three point matrices created above.\n",
    "    list_names = ['Origin lower left', 'x up', 'x up and lower left origin']\n",
    "    list_pts_circle = [pts_circle_lower_left_origin, pts_circle_x_up, pts_circle_x_up_lower_left_origin]\n",
    "    list_pts_zigzag = [pts_zigzag_lower_left_origin, pts_zigzag_x_up, pts_zigzag_x_up_lower_left_origin]\n",
    "    for i, (n, c, z) in enumerate(zip(list_names, list_pts_circle, list_pts_zigzag)):\n",
    "        # Plot the points in their original location\n",
    "        axs[i+1].plot(c[0, :], c[1, :], linestyle='solid', color='green')\n",
    "        axs[i+1].plot(z[0, :], z[1, :], linestyle='dashed', color='grey')\n",
    "\n",
    "        # Plot the points in their scale-rotate-translated location (mat)\n",
    "        pts_moved = mat_scl_rot_trans @ c\n",
    "        axs[i+1].plot(pts_moved[0, :], pts_moved[1, :], ':g')\n",
    "        pts_moved = mat_scl_rot_trans @ z\n",
    "        axs[i+1].plot(pts_moved[0, :], pts_moved[1, :], linestyle='dashed', color='grey')\n",
    "\n",
    "        # Draw the axes and the box\n",
    "        mr.plot_axes_and_box(axs[i+1], mat_scl_rot_trans)\n",
    "        axs[i+1].set_title(n)\n"
   ]
  },
  {
   "cell_type": "code",
   "execution_count": null,
   "metadata": {},
   "outputs": [],
   "source": [
    "# What happens if your geometry is not centered at the origin\n",
    "#.  Before you move any of the points, the plots all look the same... \n",
    "example_uncentered_geometry()\n"
   ]
  },
  {
   "cell_type": "markdown",
   "metadata": {},
   "source": [
    "# Answers\n",
    "\n",
    "Note: Just putting the lines that need to change here\n",
    "\n",
    "##  Mirror and skewed\n",
    "\n",
    "mat_mirror = mr.make_translation_matrix(2.5, 2.5) @ mr.make_scale_matrix(-2.0, 1.0)\n",
    "\n",
    "mat_skew = mr.make_translation_matrix(2.5, 2.5) @ mr.make_scale_matrix(2.0, 1.0) @ mr.make_rotation_matrix(np.pi/4.0)\n",
    "\n",
    "## Uncentered geometry\n",
    "\n",
    "pts_circle_lower_left_origin = mr.make_translation_matrix(1, 1) @ pts_circle\n",
    "\n",
    "pts_zigzag_lower_left_origin = mr.make_translation_matrix(1, 1) @ pts_zigzag\n",
    "\n",
    "pts_circle_x_up = mr.make_rotation_matrix(-np.pi/2.0) @ pts_circle\n",
    "\n",
    "pts_zigzag_x_up = mr.make_rotation_matrix(-np.pi/2.0) @ pts_zigzag\n",
    "\n",
    "\n",
    "pts_circle_x_up_lower_left_origin = mr.make_translation_matrix(1, 1) @ mr.make_rotation_matrix(-np.pi/2.0) @ pts_circle\n",
    "\n",
    "pts_zigzag_x_up_lower_left_origin = mr.make_translation_matrix(1, 1) @ mr.make_rotation_matrix(-np.pi/2.0) @ pts_zigzag\n",
    "\n"
   ]
  },
  {
   "cell_type": "code",
   "execution_count": null,
   "metadata": {},
   "outputs": [],
   "source": []
  }
 ],
 "metadata": {
  "kernelspec": {
   "display_name": "Python 3",
   "language": "python",
   "name": "python3"
  },
  "language_info": {
   "codemirror_mode": {
    "name": "ipython",
    "version": 3
   },
   "file_extension": ".py",
   "mimetype": "text/x-python",
   "name": "python",
   "nbconvert_exporter": "python",
   "pygments_lexer": "ipython3",
   "version": "3.7.4"
  }
 },
 "nbformat": 4,
 "nbformat_minor": 2
}
