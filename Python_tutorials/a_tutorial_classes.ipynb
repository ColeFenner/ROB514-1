{
 "cells": [
  {
   "cell_type": "markdown",
   "metadata": {},
   "source": [
    "# Class Example \n",
    "\n",
    "Classes encapsulate data plus functions; instead of having data passed into the functions, the class stores the data. The functions are \"inside\" the class, and have access to that data. As with using functions instead of just writing all the code in one big long piece, classes help with making code clearer, easier to read, and testable in pieces.\n",
    "\n",
    "Covering the full functionality of Python classes would take a long time; we focus here on the most common usage of classes, which is this encapsulation. Learning about the syntax of how classes are structured will also help you use classes other people have defined.\n",
    "\n",
    "In this example we create a class for the walls (completed in lecture activity), which encapsulates a definition of a wall (eg, a vertical wall at x = 0.3), and the methods we defined to handle walls (is the point on the inside of the wall? Plotting a wall. Reflecting a ball that has passed through the wall."
   ]
  },
  {
   "cell_type": "markdown",
   "metadata": {},
   "source": [
    "## Syntax: To declare a class, you just do\n",
    "**class Classname:**\n",
    "\n",
    "and everything that is indented after that belongs to the class\n",
    "\n",
    "You'll see **self.** - this is how you access the data and the methods in the class from within the methods.\n",
    "\n",
    "You create variables for the class by doing **self.variablename = 3.0**, just like a regular variable.\n",
    "\n",
    "You create functions that belong to the class the same as a regular function, except the first parameter is \"self\""
   ]
  },
  {
   "cell_type": "code",
   "execution_count": null,
   "metadata": {},
   "outputs": [],
   "source": [
    "import numpy as np"
   ]
  },
  {
   "cell_type": "code",
   "execution_count": null,
   "metadata": {},
   "outputs": [],
   "source": [
    "class PinballWall:\n",
    "    # This is the creator for the class - it gets called when you make a class (see below)\n",
    "    #.  You don't call it directly...\n",
    "    def __init__(self, wall_type=\"Vertical\", intercept_value=None, a_b_c=None):\n",
    "        \"\"\"Create a horizontal, vertical, or general half-plane wall\n",
    "         if vertical/horizontal, use intercept value\n",
    "         if general, use a_b_c\n",
    "        @param wall_type - Vertical, Horizontal or General (ax + by + c = 0)\n",
    "        @param intercept_value - number, where to place the wall on the x or y axis (Vertical or Horizontal)\n",
    "        @param a_b_c - for General wall, list of 3 values\"\"\"\n",
    "\n",
    "        # Save what kind of wall it is, then save as a general ax + by + c equation\n",
    "        # What this does:\n",
    "        #  - checks that the input is at least somewhat correct - eg, if they asked for a vertical wall they\n",
    "        #    need to specify the intercept value\n",
    "        # Lets the user \"special case\" a vertical or horizontal wall, rather than having to convert to the\n",
    "        #   ax + by + c format\n",
    "        if wall_type == \"Vertical\":\n",
    "            self.wall_type = \"Vertical\"\n",
    "            if intercept_value is None:\n",
    "                raise ValueError(\"If vertical wall, need to specify intercept value\")\n",
    "            if intercept_value > 0:\n",
    "                self.abc = [1.0, 0.0, -intercept_value]\n",
    "            else:\n",
    "                self.abc = [-1.0, 0.0, intercept_value]\n",
    "        elif wall_type == \"Horizontal\":\n",
    "            self.wall_type = \"Horizontal\"\n",
    "            if intercept_value is None:\n",
    "                raise ValueError(\"If horizontal wall, need to specify intercept value\")\n",
    "            if intercept_value > 0:\n",
    "                self.abc = [0.0, 1.0, -intercept_value]\n",
    "            else:\n",
    "                self.abc = [0.0, -1.0, intercept_value]\n",
    "        elif wall_type == \"General\":\n",
    "            self.wall_type = \"General\"\n",
    "            if a_b_c is None:\n",
    "                raise ValueError(\"If general wall, need to specify a, b, and c a_b_c\")\n",
    "            if a_b_c[0] * 0 + a_b_c[1] * 0 + a_b_c[2] < 0:\n",
    "                self.abc = [a_b_c[0], a_b_c[1], a_b_c[2]]\n",
    "            else:\n",
    "                self.abc = [-a_b_c[0], -a_b_c[1], -a_b_c[2]]\n",
    "        else:\n",
    "            raise ValueError(\"Wall type is not one of Vertical, Horizontal, or General\")\n",
    "\n",
    "    def evaluate_halfplane(self, x_y):\n",
    "        \"\"\" Evaluate ax + by + c\n",
    "        @param x_y numpy array/tuple for the current location\n",
    "        @return ax + by + c\"\"\"\n",
    "        # self is the same self we set in the __init__ function\n",
    "        return self.abc[0] * x_y[0] + self.abc[1] * x_y[1] + self.abc[2]\n",
    "\n",
    "    def outside(self, x_y):\n",
    "        \"\"\" Is the point outside of this half/plane representing the wall?\n",
    "        @param x_y numpy array/tuple for the current location\n",
    "        @return True or False\"\"\"\n",
    "        # We can call any of the methods defined in the class\n",
    "        return self.evaluate_halfplane(x_y) >= 0.0\n",
    "\n",
    "    def inside(self, x_y):\n",
    "        \"\"\" We can call class methods from within class methods\n",
    "        @param x_y numpy array/tuple for the current location\n",
    "        @return True or False\"\"\"\n",
    "        return not self.outside(x_y)\n",
    "\n",
    "    def __str__(self):\n",
    "        \"\"\"\n",
    "        The string representation of this class.\n",
    "        :return: a string\n",
    "        \"\"\"\n",
    "        # f\"\" creates a string; in this case, instead of printing it, just return it\n",
    "        return f\"{self.abc[0]:0.3f}x + {self.abc[1]:0.3f}y + {self.abc[2]:0.3f}\"\n",
    "\n",
    "    def test_on_wall(self, x_y):\n",
    "        \"\"\" Pass in a point that should be on the wall; should return 0\n",
    "         @param x_y - xy point\n",
    "         @preturn True or False\"\"\"\n",
    "        return np.isclose(self.evaluate_halfplane(x_y), 0.0)\n",
    "\n",
    "    def test_origin_inside(self):\n",
    "        \"\"\" Test that we correctly oriented the wall so that (0,0) is inside\"\"\"\n",
    "        # Notice call to self\n",
    "        assert(self.inside([0, 0]))\n",
    "        return True\n"
   ]
  },
  {
   "cell_type": "markdown",
   "metadata": {},
   "source": [
    "Now create two instances of the class\n",
    "\n",
    "Notice that we do NOT pass in a self variable"
   ]
  },
  {
   "cell_type": "code",
   "execution_count": null,
   "metadata": {},
   "outputs": [],
   "source": [
    "# Format is: variable_name = class_name(parameters to __init__)\n",
    "#. - this calls init - you don't call it directly\n",
    "my_vert_wall = PinballWall(wall_type=\"Vertical\", intercept_value=.2)\n",
    "my_horiz_wall = PinballWall(wall_type=\"Horizontal\", intercept_value=.2)"
   ]
  },
  {
   "cell_type": "markdown",
   "metadata": {},
   "source": [
    "Print them both - this will call the string __str__ function - this is another example of a method that is \n",
    "not directly called, but is called for you when you Python wants to convert the class to a string.\n",
    "You can actually call **my_vert_wall.__str__()** - it will do the same thing"
   ]
  },
  {
   "cell_type": "code",
   "execution_count": null,
   "metadata": {},
   "outputs": [],
   "source": [
    "print(f\"Vertical wall: {my_vert_wall}\")\n",
    "print(f\"Horizontal wall: {my_horiz_wall}\")"
   ]
  },
  {
   "cell_type": "markdown",
   "metadata": {},
   "source": [
    "Now we'll try calling one of the methods in the class directly\n",
    "\n",
    "Check that we got the math right - should be 0 at 0.2, y for vertical wall\n",
    "\n",
    "Notice the use of my_vert_wall. to say which wall to use this, essentially, is the same as calling\n",
    "\n",
    "**PinballWall.evaluate_halfplane(self=my_vert_wall, x_y=[0.2, 10.0])**"
   ]
  },
  {
   "cell_type": "code",
   "execution_count": null,
   "metadata": {},
   "outputs": [],
   "source": [
    "x_y = [0.2, 10.0]\n",
    "eval_vert_at_line = my_vert_wall.evaluate_halfplane(x_y=x_y)\n",
    "print(f\"Vertical wall evaluated at 0.2: {eval_vert_at_line}\")\n",
    "assert(my_vert_wall.test_on_wall(x_y=x_y))"
   ]
  },
  {
   "cell_type": "code",
   "execution_count": null,
   "metadata": {},
   "outputs": [],
   "source": [
    "# Check the other test functions\n",
    "# A diagonal wall in the lower right corner\n",
    "my_general_wall = PinballWall(\"General\", a_b_c=[1.0, 1.0, 0.7])\n",
    "# One cool thing with encapsulating code in classes is you can do things like this - this calls origin_inside for\n",
    "#   each instance of the class\n",
    "for w in [my_horiz_wall, my_vert_wall, my_general_wall]:\n",
    "    w.test_origin_inside()"
   ]
  },
  {
   "cell_type": "markdown",
   "metadata": {},
   "source": [
    "## What doesn't work\n",
    "\n",
    "Some things that *don't* work\n",
    "- this doesn't work because you need an instance of PinballWall - i.e., the self pointer\n",
    "- notice that the error is a method not found error - that's because all of the methods in a class have a tag (the name of the class - PinballWall) pre-pended to the method name\n",
    "\n",
    "**NameError: name 'evaluate_halfplane' is not defined**"
   ]
  },
  {
   "cell_type": "code",
   "execution_count": null,
   "metadata": {},
   "outputs": [],
   "source": [
    "ret_val = evaluate_halfplane(x_y=[10.0, 0.2])"
   ]
  },
  {
   "cell_type": "markdown",
   "metadata": {},
   "source": [
    "This solves the name error - we tell Python that we want the method in the PinballWall class\n",
    "\n",
    "However, it generates a different error - because it's missing the \"self\" parameter\n",
    "\n",
    "**TypeError: evaluate_halfplane() missing 1 required positional argument: 'self' **"
   ]
  },
  {
   "cell_type": "code",
   "execution_count": null,
   "metadata": {},
   "outputs": [],
   "source": [
    "ret_val = PinballWall.evaluate_halfplane(x_y=[10.0, 0.2])"
   ]
  },
  {
   "cell_type": "markdown",
   "metadata": {},
   "source": [
    "Here we explicitly set the self pointer - you should never do this, it's just here to show you what is happening  under the hood when you do \n",
    "\n",
    "**my_vert_wall.evaluate_halfplane(x_y=[10.0, 0.2])**"
   ]
  },
  {
   "cell_type": "code",
   "execution_count": null,
   "metadata": {},
   "outputs": [],
   "source": [
    "ret_val = PinballWall.evaluate_halfplane(self=my_vert_wall, x_y=[10.0, 0.2])"
   ]
  },
  {
   "cell_type": "markdown",
   "metadata": {},
   "source": [
    "# Forgetting the self pointer in a method\n",
    "\n",
    "Note that when you execute the next cell you don't get any errors - because Python just stores what you wrote, it doesn't actually execute it"
   ]
  },
  {
   "cell_type": "code",
   "execution_count": null,
   "metadata": {},
   "outputs": [],
   "source": [
    "class Oops:\n",
    "    def __init__(self):\n",
    "        var_disappears = 3.0\n",
    "        self.var_stays = 4.0\n",
    "        \n",
    "    def oops1(self):\n",
    "        # Most common error - forget to use the self in front of it\n",
    "        return var_stays + 10\n",
    "    \n",
    "    def oops2(self):\n",
    "        # More subtle error - you thought you made the variable, but you didn't \"save\" it in the class with\n",
    "        #. the self. \n",
    "        return var_disappears * 3.0\n",
    "    \n",
    "    def oops3(self):\n",
    "        # Forgetting the self pointer again - oops2 does not exist\n",
    "        return oops2()"
   ]
  },
  {
   "cell_type": "code",
   "execution_count": null,
   "metadata": {},
   "outputs": [],
   "source": [
    "# Now we'll create an instance of Oops\n",
    "\n",
    "my_oops = Oops()  # This doesn't fail because everything we did in __init__ was valid\n",
    "# Notices we didn't do a __str__ method, so this is an ugly print\n",
    "print(f\"My ooops {my_oops}\")"
   ]
  },
  {
   "cell_type": "code",
   "execution_count": null,
   "metadata": {},
   "outputs": [],
   "source": [
    "# Now cause an error - var_stays doesn't exist in the method. Fix it by putting self. in front of var_stays in\n",
    "#. oops 1\n",
    "my_oops.oops1()\n",
    "\n",
    "\n",
    "# Don't forget to re-execute the class cell if you fix it"
   ]
  },
  {
   "cell_type": "code",
   "execution_count": null,
   "metadata": {},
   "outputs": [],
   "source": [
    "# Make it break again.. this one you fix by putting self. in front of var_disappears in the __init__ method\n",
    "my_oops.oops2()\n",
    "\n",
    "# Don't forget to re-execute the class cell if you fix it"
   ]
  },
  {
   "cell_type": "code",
   "execution_count": null,
   "metadata": {},
   "outputs": [],
   "source": [
    "# Ka boom - figure out where you need to put the self. to fix this \n",
    "my_oops.oops3()"
   ]
  },
  {
   "cell_type": "code",
   "execution_count": null,
   "metadata": {},
   "outputs": [],
   "source": []
  }
 ],
 "metadata": {
  "kernelspec": {
   "display_name": "Python 3",
   "language": "python",
   "name": "python3"
  },
  "language_info": {
   "codemirror_mode": {
    "name": "ipython",
    "version": 3
   },
   "file_extension": ".py",
   "mimetype": "text/x-python",
   "name": "python",
   "nbconvert_exporter": "python",
   "pygments_lexer": "ipython3",
   "version": "3.7.3"
  }
 },
 "nbformat": 4,
 "nbformat_minor": 2
}
