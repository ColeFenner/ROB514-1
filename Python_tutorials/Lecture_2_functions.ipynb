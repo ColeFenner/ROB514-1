{
 "cells": [
  {
   "cell_type": "markdown",
   "metadata": {},
   "source": [
    "# Functions\n",
    "\n",
    "Defining a function, example one, takes two parameters and returns one value"
   ]
  },
  {
   "cell_type": "code",
   "execution_count": null,
   "metadata": {},
   "outputs": [],
   "source": [
    "def my_func1(a, b):\n",
    "    \"\"\" A function that calculates a-b\n",
    "    @param a is a number\n",
    "    @param b is a number\n",
    "    @return a-b (a number)\"\"\"\n",
    "    ret_val = a - b\n",
    "    return ret_val"
   ]
  },
  {
   "cell_type": "code",
   "execution_count": null,
   "metadata": {},
   "outputs": [],
   "source": [
    "# Calling the function with numbers\n",
    "ret = my_func1(3, 7)\n",
    "print(f\"return value for 3 - 7 is {ret}\")"
   ]
  },
  {
   "cell_type": "code",
   "execution_count": null,
   "metadata": {},
   "outputs": [],
   "source": [
    "# Calling the function with variables\n",
    "a_here = 10.2\n",
    "b_here = 12.2\n",
    "ret_here = my_func1(a_here, b_here)\n",
    "print(f\"return value for a_here - b_here is {ret_here}\")"
   ]
  },
  {
   "cell_type": "code",
   "execution_count": null,
   "metadata": {},
   "outputs": [],
   "source": [
    "# You can put equations/code in the parameters, although best not to put anything *too* complicated\n",
    "a_here = 10.2\n",
    "b_here = 12.2\n",
    "ret_here = my_func1(2*a_here, b_here)\n",
    "print(f\"return value for 2 * a_here - b_here is {ret_here}\")"
   ]
  },
  {
   "cell_type": "code",
   "execution_count": null,
   "metadata": {},
   "outputs": [],
   "source": [
    "# Ooops - nope, Python does not \"know\" if you have the parameters in the correct order..\n",
    "ret_here_wrong = my_func1(b_here, a_here)\n",
    "print(f\"Incorrect for a_here - b_here {ret_here_wrong}\")"
   ]
  },
  {
   "cell_type": "markdown",
   "metadata": {},
   "source": [
    "# Functions, advanced\n",
    "\n",
    "- Call using paramter name\n",
    "- Default parameters"
   ]
  },
  {
   "cell_type": "code",
   "execution_count": null,
   "metadata": {},
   "outputs": [],
   "source": [
    "def my_func_with_default(a, b=0.2):\n",
    "    \"\"\" A function that calculates a-b\n",
    "    @param a - a number\n",
    "    @param b - a number (default value, 0.2)\n",
    "    @return a-b (also a number)\"\"\"\n",
    "    ret_val = a - b\n",
    "    \n",
    "    return ret_val   "
   ]
  },
  {
   "cell_type": "code",
   "execution_count": null,
   "metadata": {},
   "outputs": [],
   "source": [
    "# Calling the function, using default value\n",
    "ret_using_default_b_value = my_func_with_default(2)   # Uses default (0.2) value for b\n",
    "print(f\"ret_using_default_b_value is {ret_using_default_b_value}\")"
   ]
  },
  {
   "cell_type": "code",
   "execution_count": null,
   "metadata": {},
   "outputs": [],
   "source": [
    "# Calling the function, using pass by parameter\n",
    "ret1 = my_func_with_default(a=2, b=3)\n",
    "print(f\"ret1 is {ret1}\")\n",
    "\n",
    "a_here = 10.2\n",
    "b_here = 12.2\n",
    "# Probably still a good idea to put them in the \"correct\" order, but at least you got b_here assigned to b...\n",
    "ret2 = my_func_with_default(b=b_here, a=a_here)\n",
    "print(f\"ret2 is {ret2}\")"
   ]
  },
  {
   "cell_type": "markdown",
   "metadata": {},
   "source": [
    "# Example 1: numpy functions"
   ]
  },
  {
   "cell_type": "code",
   "execution_count": null,
   "metadata": {},
   "outputs": [],
   "source": [
    "# Import all the numpy functions\n",
    "import numpy as np\n",
    "\n",
    "# the np. says look in numpy for these functions\n",
    "t_values_default = np.linspace(-np.pi, np.pi)\n",
    "t_values = np.linspace(-np.pi, np.pi, num=20)\n",
    "\n",
    "print(f\"Number of elems by default {len(t_values_default)}\")\n",
    "print(f\"Number of elems when set {len(t_values)}\")"
   ]
  },
  {
   "cell_type": "code",
   "execution_count": null,
   "metadata": {},
   "outputs": [],
   "source": [
    "# An example of how the same function works with a different parameter types\n",
    "print(f\"One number {np.sin(np.pi)}\")\n",
    "print(f\"All numbers with min {np.min(np.sin(t_values))}\")"
   ]
  },
  {
   "cell_type": "markdown",
   "metadata": {},
   "source": [
    "# Example 2: plot functions\n",
    "\n",
    "Plot is a very, very versitile function - it can plot a lot of things and has a lot of \"default\" behavior. It also has a *lot* of parameters that can be set in order to change what happens"
   ]
  },
  {
   "cell_type": "code",
   "execution_count": null,
   "metadata": {},
   "outputs": [],
   "source": [
    "import matplotlib.pyplot as plt\n",
    "\n",
    "# This \"magic\" command tells matplotlib to make in-line images of plots.\n",
    "%matplotlib inline"
   ]
  },
  {
   "cell_type": "code",
   "execution_count": null,
   "metadata": {},
   "outputs": [],
   "source": [
    "# Give it one list of values and it will plot that with 1,2,3 etc on the x axis\n",
    "plt.plot(np.sin(t_values))"
   ]
  },
  {
   "cell_type": "code",
   "execution_count": null,
   "metadata": {},
   "outputs": [],
   "source": [
    "#. Or set x and y - notice the x-axis has different values\n",
    "plt.plot(t_values, np.sin(t_values))"
   ]
  },
  {
   "cell_type": "code",
   "execution_count": null,
   "metadata": {},
   "outputs": [],
   "source": [
    "#. Adjust color and line style - the string is a very concise shorthand for - line style, x markers, rec\n",
    "plt.plot(t_values, np.sin(t_values), \"-xr\")"
   ]
  },
  {
   "cell_type": "code",
   "execution_count": null,
   "metadata": {},
   "outputs": [],
   "source": [
    "#. Adjust color and line style - setting each parameter by hand\n",
    "plt.plot(t_values, np.sin(t_values), linestyle='dashed', color='darkred', marker=\"x\", markersize='10')"
   ]
  },
  {
   "cell_type": "code",
   "execution_count": null,
   "metadata": {},
   "outputs": [],
   "source": []
  }
 ],
 "metadata": {
  "kernelspec": {
   "display_name": "Python 3",
   "language": "python",
   "name": "python3"
  },
  "language_info": {
   "codemirror_mode": {
    "name": "ipython",
    "version": 3
   },
   "file_extension": ".py",
   "mimetype": "text/x-python",
   "name": "python",
   "nbconvert_exporter": "python",
   "pygments_lexer": "ipython3",
   "version": "3.7.4"
  }
 },
 "nbformat": 4,
 "nbformat_minor": 2
}
