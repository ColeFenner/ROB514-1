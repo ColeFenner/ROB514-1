{
 "cells": [
  {
   "cell_type": "raw",
   "metadata": {},
   "source": [
    "# ASSIGNMENT CONFIG\n",
    "requirements: ../requirements.txt\n",
    "solutions_pdf: true\n",
    "export_cell:\n",
    "    instructions: \"Submit through gradescope, Lecture activity 3 data analysis. Include just the .ipynb file - the data files will be included for you\"\n",
    "files:\n",
    "    - Data/week3_Motor position f1_failed.csv\n",
    "    - Data/week3_Motor position f1_successful.csv\n",
    "generate: \n",
    "    pdf: true\n",
    "    points_possible: 5\n",
    "    filtering: true\n",
    "    pagebreaks: true\n",
    "    zips: false"
   ]
  },
  {
   "cell_type": "markdown",
   "metadata": {},
   "source": [
    "# Fit a line to the middle part of the finger 1 motor positions\n",
    "\n",
    "It might be helpful to look at the instruction/background slides before tackling this\n",
    "\n",
    "https://docs.google.com/presentation/d/1IoiD43zjp_XOEH0soCZGMBN4b13KWVndoHAxoUJMQoM/edit?usp=sharing\n",
    "\n",
    "Lecture goals:\n",
    "- Extract a subset of data based on conditions\n",
    "- Use linregress to approximate linear data"
   ]
  },
  {
   "cell_type": "code",
   "execution_count": null,
   "metadata": {},
   "outputs": [],
   "source": [
    "# Doing the imports for you\n",
    "import numpy as np\n",
    "import json as json\n",
    "from scipy.stats import linregress\n",
    "import matplotlib.pyplot as plt"
   ]
  },
  {
   "cell_type": "raw",
   "metadata": {},
   "source": [
    "# BEGIN QUESTION\n",
    "name: Read data\n",
    "points: 1"
   ]
  },
  {
   "cell_type": "markdown",
   "metadata": {},
   "source": [
    "# Read the motor position data in\n",
    "The motor position data has already been cut out and put in separate .csv files for you (see Lecture script, slides). \n",
    "\n",
    "TODO: Read the data in using numpy's loadtxt.\n",
    "\n",
    "The shape of the data should be (355, 40) and (305, 40)"
   ]
  },
  {
   "cell_type": "raw",
   "metadata": {},
   "source": [
    "# BEGIN SOLUTION"
   ]
  },
  {
   "cell_type": "code",
   "execution_count": null,
   "metadata": {},
   "outputs": [],
   "source": [
    "# BEGIN SOLUTION NO PROMPT\n",
    "# Read in the processed data\n",
    "\n",
    "data_successful = np.loadtxt(\"Data/week3_Motor position f1_successful.csv\", dtype=\"float\", delimiter=\",\")\n",
    "data_failed = np.loadtxt(\"Data/week3_Motor position f1_failed.csv\", dtype=\"float\", delimiter=\",\")\n",
    "print(f\"{data_successful.shape}\")\n",
    "print(f\"{data_failed.shape}\")\n",
    "\n",
    "# END SOLUTION\n",
    "\n",
    "\"\"\" # BEGIN PROMPT\n",
    "# TODO Read in week3_Motor position f1_success and failed .csv files\n",
    "data_successful = ...  # week3_Motor position f1_successful.csv\n",
    "data_failed = ...  # week3_Motor position f1_failed.csv\n",
    "# END PROMPT\"\"\"\n"
   ]
  },
  {
   "cell_type": "raw",
   "metadata": {},
   "source": [
    "# END SOLUTION"
   ]
  },
  {
   "cell_type": "raw",
   "metadata": {},
   "source": [
    "# BEGIN TESTS"
   ]
  },
  {
   "cell_type": "code",
   "execution_count": null,
   "metadata": {},
   "outputs": [],
   "source": [
    "assert(data_successful.shape == (355, 40) and data_failed.shape == (305, 40))"
   ]
  },
  {
   "cell_type": "raw",
   "metadata": {},
   "source": [
    "# END TESTS"
   ]
  },
  {
   "cell_type": "raw",
   "metadata": {},
   "source": [
    "# END QUESTION"
   ]
  },
  {
   "cell_type": "raw",
   "metadata": {},
   "source": [
    "# BEGIN QUESTION\n",
    "name: Fit middle\n",
    "points: 2"
   ]
  },
  {
   "cell_type": "markdown",
   "metadata": {},
   "source": [
    "# Fit a line to the middle points\n",
    "\n",
    "Doing this as a function so you can use it twice.\n",
    "\n",
    "Some decisions:\n",
    "- Pass in the data as two arrays, the t and y values\n",
    "-     Use fit_line_to_middle_bit function to pull out the \"middle\" bit\n",
    "- Returns the points of intersection with the min/max values (rather than slope and intercept) because in the long run that's what we care about (where the motor started and stopped)\n",
    "- The eps is a \"fudge factor\" so that you can clip out data above/below a threshhold\n",
    "\n",
    "Two ways to do this:\n",
    "- Clip with a fudge factor, use np.logical_and fudge factor should be d_y = eps * (y_max - y_min), \n",
    "   take all points y_min + d_y < y < y_max - dy\n",
    "- Use np.where to find the first index > y_min + d_y (or < y_max - d_y)\n",
    "    np.where returns an array of arrays; use index[0][0] to get the value out\n",
    "    Then use start:end to get the values out of ts, ys\n",
    "\n",
    "## Implementation steps (suggested)\n",
    "\n",
    "Step 1: Start with just fitting the entire data and drawing the resulting line\n",
    "    Use y = mx + b equation to find start/stop points from slope/intercept\n",
    "       Find max/min y values, and plug those into the equation\n",
    "    You should get something that goes roughly from the bottom left to the top right of the original data\n",
    "\n",
    "Step 2: Clip just the y_max values by using boolean indexing to keep just part of the array\n",
    "   Alternate: Use np.where to find the max value, extract the ending index, and use 0:end_index\n",
    "\n",
    "Step 3: Clip both ends at the same time (change the boolean indexing to use a logical_and)\n",
    "    Alternate: Use np.where a second time to find the min value, extract the starting index"
   ]
  },
  {
   "cell_type": "raw",
   "metadata": {},
   "source": [
    "# BEGIN SOLUTION"
   ]
  },
  {
   "cell_type": "code",
   "execution_count": null,
   "metadata": {},
   "outputs": [],
   "source": [
    "def fit_line_to_middle_bit(ts, ys, eps=1e-2):\n",
    "    \"\"\" Fit a line to the sloped middle bit of the data\n",
    "      Return the line as a pair of points, one where the fitted line crosses the y min value, one where the line crosses\n",
    "      the y max value (see slides for picture)\n",
    "      Reminder; Use & to do an AND of two boolean conditions\n",
    "    @param ts - the time values for the data (x-axis)\n",
    "    @param ys - the function values (y-axis)\n",
    "    @param eps - a fudge factor for clipping the middle bit\n",
    "    @returns (x_min, y_min), (x_max, y_max)  (two tuples)\"\"\"\n",
    "\n",
    "    # BEGIN SOLUTION NO PROMPT\n",
    "\n",
    "    y_max = np.max(ys)\n",
    "    y_min = np.min(ys)\n",
    "    delta_y = eps * (y_max - y_min)\n",
    "\n",
    "    find_vals = np.logical_and(ys > (y_min + delta_y), ys < (y_max - delta_y))\n",
    "    res_clip = linregress(ts[find_vals], ys[find_vals])\n",
    "\n",
    "    index_start = np.where(ys > y_min + delta_y)\n",
    "    index_end = np.where(ys > y_max - delta_y)\n",
    "    res_bounds = linregress(ts[index_start[0][0]:index_end[0][0]], ys[index_start[0][0]:index_end[0][0]])\n",
    "\n",
    "    # print(f\"Result, clipping: {res_clip}\")\n",
    "    # print(f\"Result, bounds: {res_bounds}\")\n",
    "\n",
    "    x_min = (y_min - res_clip.intercept) /res_clip.slope\n",
    "    x_max = (y_max - res_clip.intercept) /res_clip.slope\n",
    "    # END SOLUTION\n",
    "\n",
    "    \"\"\" # BEGIN PROMPT\n",
    "    # TODO: \n",
    "    #.  Get y min and y max from the data\n",
    "    #.  Use np.where to find the index of the first y value that is bigger than ymin + eps * (ymax - ymin)\n",
    "    #.  Use np.where to find the index of the last y value that is smaller than ymax - eps * (ymax - ymin)\n",
    "    #  (Check - if you've done this correctly, for the first row of the successful data set this should be around\n",
    "    #.   8 and 12\n",
    "    #   Get out just the data between those two indices\n",
    "    #.  Do a linear regression on just that data\n",
    "    #.     Don't forget to get the t values between those two indices as well\n",
    "    #. After fitting, Slope should be 654.xxx, intercept 162.xxx for first row (successful data\n",
    "    #. Use the fitted line to get out the corresponding x values for those y values\n",
    "    #.   x = (y - intercept) / slope\n",
    "    y_min = ...\n",
    "    y_max = ...\n",
    "    x_min = ...\n",
    "    x_max = ...\n",
    "    # END PROMPT\"\"\"\n",
    "    return (x_min, y_min), (x_max, y_max)\n",
    "\n",
    "# BEGIN SOLUTION NO PROMPT\n",
    "# This bit of code will test your function with known values - should print out ((0.25, 0.0), (0.75, 1.0))\n",
    "xs = np.linspace(0, 1, 9)\n",
    "ys = np.array([0, 0, 0, 0.25, 0.5, 0.75, 1, 1, 1])\n",
    "print(f\"{fit_line_to_middle_bit(xs, ys, eps=0.1)}\")\n",
    "# END SOLUTION"
   ]
  },
  {
   "cell_type": "raw",
   "metadata": {},
   "source": [
    "# END SOLUTION"
   ]
  },
  {
   "cell_type": "raw",
   "metadata": {},
   "source": [
    "# BEGIN TESTS"
   ]
  },
  {
   "cell_type": "code",
   "execution_count": null,
   "metadata": {},
   "outputs": [],
   "source": [
    "assert(fit_line_to_middle_bit(np.linspace(0, 1, 9), np.array([0, 0, 0, 0.25, 0.5, 0.75, 1, 1, 1]), eps=0.001) == ((0.25, 0.0), (0.75, 1.0)))"
   ]
  },
  {
   "cell_type": "raw",
   "metadata": {},
   "source": [
    "# END TESTS"
   ]
  },
  {
   "cell_type": "raw",
   "metadata": {},
   "source": [
    "# END QUESTION"
   ]
  },
  {
   "cell_type": "raw",
   "metadata": {},
   "source": [
    "# BEGIN QUESTION\n",
    "name: data_for_each\n",
    "points: 2"
   ]
  },
  {
   "cell_type": "markdown",
   "metadata": {},
   "source": [
    "# Use the function on each data set\n",
    "Call the function twice, once with the successful pick data, once with the unsuccessful.\n",
    "\n",
    "TODO\n",
    "- Create t values (time step is 1/30th of a second, make one t value for each y value, starting at 0\n",
    "- Call the **fit_line_to_middle_bits** function twice, once for the first row of the successful data, once for the first row of the failed data"
   ]
  },
  {
   "cell_type": "raw",
   "metadata": {},
   "source": [
    "# BEGIN SOLUTION"
   ]
  },
  {
   "cell_type": "code",
   "execution_count": null,
   "metadata": {},
   "outputs": [],
   "source": [
    "# BEGIN_SOLUTION NO PROMPT\n",
    "# Know time step\n",
    "time_step = 1/30\n",
    "ts = np.arange(start=0, stop=data_successful.shape[1] * time_step, step=time_step)\n",
    "\n",
    "pt_start_successful, pt_end_successful = fit_line_to_middle_bit(ts, data_successful[0])\n",
    "pt_start_failed, pt_end_failed = fit_line_to_middle_bit(ts, data_failed[0])\n",
    "# END SOLUTION NO PROMPT\n",
    "\n",
    "\"\"\" # BEGIN PROMPT\n",
    "# Create t values with appropriate step size\n",
    "ts = ...\n",
    "pt_start_successful, pt_end_successful = ...\n",
    "pt_start_failed, pt_end_failed = ...\n",
    "# END PROMPT\"\"\"\n",
    "\n",
    "print(f\"Last time step {ts[-1]}\")\n",
    "print(f\"Successful: {pt_start_successful} {pt_end_successful}\")\n",
    "print(f\"Failed: {pt_start_failed} {pt_end_failed}\")"
   ]
  },
  {
   "cell_type": "raw",
   "metadata": {},
   "source": [
    "# END SOLUTION"
   ]
  },
  {
   "cell_type": "raw",
   "metadata": {},
   "source": [
    "# BEGIN TESTS"
   ]
  },
  {
   "cell_type": "code",
   "execution_count": null,
   "metadata": {},
   "outputs": [],
   "source": [
    "assert(np.isclose(ts[-1], 1.3))"
   ]
  },
  {
   "cell_type": "code",
   "execution_count": null,
   "metadata": {},
   "outputs": [],
   "source": [
    "assert(np.isclose(pt_start_successful[0], 0.210644, atol=1e-2))"
   ]
  },
  {
   "cell_type": "code",
   "execution_count": null,
   "metadata": {},
   "outputs": [],
   "source": [
    "assert(np.isclose(pt_start_successful[1], 299.992, atol=1e-1))"
   ]
  },
  {
   "cell_type": "code",
   "execution_count": null,
   "metadata": {},
   "outputs": [],
   "source": [
    "assert(np.isclose(pt_end_successful[0], 0.409512247, atol=1e-2))"
   ]
  },
  {
   "cell_type": "code",
   "execution_count": null,
   "metadata": {},
   "outputs": [],
   "source": [
    "assert(np.isclose(pt_end_successful[1], 429.88, atol=1e-1))"
   ]
  },
  {
   "cell_type": "code",
   "execution_count": null,
   "metadata": {},
   "outputs": [],
   "source": [
    "assert(np.isclose(pt_start_failed[1], 299.992, atol=1e-1))"
   ]
  },
  {
   "cell_type": "code",
   "execution_count": null,
   "metadata": {},
   "outputs": [],
   "source": [
    "assert(np.isclose(pt_end_failed[1], 429.79199, atol=1e-1))"
   ]
  },
  {
   "cell_type": "raw",
   "metadata": {},
   "source": [
    "# END TESTS"
   ]
  },
  {
   "cell_type": "raw",
   "metadata": {},
   "source": [
    "# END QUESTION"
   ]
  },
  {
   "cell_type": "raw",
   "metadata": {},
   "source": [
    "# BEGIN QUESTION\n",
    "name: Plot\n",
    "points: 1"
   ]
  },
  {
   "cell_type": "markdown",
   "metadata": {},
   "source": [
    "# Plot the results\n",
    "\n",
    "Plot the successful data on the left, the failed on the right.\n",
    "\n",
    "For each plot, plot the data, the fitted line, and red X's for the start/stop end points of the line (see slides)"
   ]
  },
  {
   "cell_type": "raw",
   "metadata": {},
   "source": [
    "# BEGIN SOLUTION"
   ]
  },
  {
   "cell_type": "code",
   "execution_count": null,
   "metadata": {},
   "outputs": [],
   "source": [
    "n_rows = 1\n",
    "n_cols = 2\n",
    "fig, axs = plt.subplots(n_rows, n_cols)\n",
    "\n",
    "# BEGIN_SOLUTION NO_PROMPT\n",
    "# Know time step\n",
    "time_step = 1/30\n",
    "ts = np.arange(start=0, stop=data_successful.shape[1] * time_step, step=time_step)\n",
    "\n",
    "pt_start, pt_end = fit_line_to_middle_bit(ts, data_successful[0])\n",
    "axs[0].plot(ts, data_successful[0], '-b', label=f\"Motor position f1\")\n",
    "axs[0].plot([pt_start[0], pt_end[0]], [pt_start[1], pt_end[1]], ':k', label=\"fitted line\")\n",
    "axs[0].plot([pt_start[0], pt_end[0]], [pt_start[1], pt_end[1]], 'Xr')\n",
    "axs[0].set_title(f\"Succesful t={pt_end[0]}\")\n",
    "axs[0].legend()\n",
    "\n",
    "pt_start, pt_end = fit_line_to_middle_bit(ts, data_failed[0])\n",
    "axs[1].plot(ts, data_successful[0], '-b', label=f\"Motor position f1\")\n",
    "axs[1].plot([pt_start[0], pt_end[0]], [pt_start[1], pt_end[1]], ':k', label=\"fitted line\")\n",
    "axs[1].plot([pt_start[0], pt_end[0]], [pt_start[1], pt_end[1]], 'Xr')\n",
    "axs[1].set_title(f\"Failed t={pt_end[0]}\")\n",
    "axs[1].legend()\n",
    "\n",
    "# END_SOLUTION\n",
    "\n",
    "\"\"\" # BEGIN PROMPT\n",
    "# Create t values with appropriate step size\n",
    "ts = ...\n",
    "# TODO Plot original data and fitted line (see slides)\n",
    "#  TODO: Put the end time value in the title\n",
    "# END PROMPT\"\"\"\n",
    "plt.tight_layout()\n"
   ]
  },
  {
   "cell_type": "raw",
   "metadata": {},
   "source": [
    "# END SOLUTION"
   ]
  },
  {
   "cell_type": "raw",
   "metadata": {},
   "source": [
    "# BEGIN TESTS"
   ]
  },
  {
   "cell_type": "code",
   "execution_count": null,
   "metadata": {},
   "outputs": [],
   "source": [
    "assert(len(axs[0].lines) == 3 and len(axs[1].lines) == 3)"
   ]
  },
  {
   "cell_type": "code",
   "execution_count": null,
   "metadata": {},
   "outputs": [],
   "source": [
    "assert(\"0.40\" in axs[0].get_title())"
   ]
  },
  {
   "cell_type": "code",
   "execution_count": null,
   "metadata": {},
   "outputs": [],
   "source": [
    "assert(\"0.41\" in axs[1].get_title())"
   ]
  },
  {
   "cell_type": "raw",
   "metadata": {},
   "source": [
    "# END TESTS"
   ]
  },
  {
   "cell_type": "raw",
   "metadata": {},
   "source": [
    "# END QUESTION"
   ]
  },
  {
   "cell_type": "raw",
   "metadata": {},
   "source": [
    "# BEGIN QUESTION\n",
    "name: hours_collaborators\n",
    "points: 1"
   ]
  },
  {
   "cell_type": "markdown",
   "metadata": {},
   "source": [
    "## Hours and collaborators\n",
    "Required for every assignment - fill out before you hand-in.\n",
    "\n",
    "Listing names and websites helps you to document who you worked with and what internet help you received in the case of any plagiarism issues. You should list names of anyone (in class or not) who has substantially helped you with an assignment - or anyone you have *helped*. You do not need to list TAs.\n",
    "\n",
    "Listing hours helps us track if the assignments are too long."
   ]
  },
  {
   "cell_type": "raw",
   "metadata": {},
   "source": [
    "# BEGIN SOLUTION"
   ]
  },
  {
   "cell_type": "code",
   "execution_count": null,
   "metadata": {},
   "outputs": [],
   "source": [
    "# BEGIN SOLUTION NO PROMPT\n",
    "worked_with_names = {}\n",
    "websites = {}\n",
    "hours = 4\n",
    "\n",
    "# END SOLUTION\n",
    "\n",
    "\"\"\" # BEGIN PROMPT\n",
    "# List of names (creates a set)\n",
    "worked_with_names = {\"not filled out\"}\n",
    "# List of URLS (creates a set)\n",
    "websites = {\"not filled out\"}\n",
    "# Approximate number of hours, including lab/in-class time\n",
    "hours = -1.5\n",
    "\n",
    "# for all row, column in all_indices_from_where\n",
    "#.   if this is the column for wrist torque \n",
    "#.      print(f\"Row: {r}, Time step: {c // n_time_steps} Successful y/n: {pick_data[r, -1] == 1}, value: {pick_data[r, c]}\")\n",
    "\"\"\" # END PROMPT"
   ]
  },
  {
   "cell_type": "raw",
   "metadata": {},
   "source": [
    "# END SOLUTION"
   ]
  },
  {
   "cell_type": "raw",
   "metadata": {},
   "source": [
    "# BEGIN TESTS"
   ]
  },
  {
   "cell_type": "code",
   "execution_count": null,
   "metadata": {},
   "outputs": [],
   "source": [
    "assert(not \"not filled out\" in worked_with_names)"
   ]
  },
  {
   "cell_type": "code",
   "execution_count": null,
   "metadata": {},
   "outputs": [],
   "source": [
    "assert(not \"not filled out\" in websites)"
   ]
  },
  {
   "cell_type": "code",
   "execution_count": null,
   "metadata": {},
   "outputs": [],
   "source": [
    "assert(hours > 0)"
   ]
  },
  {
   "cell_type": "raw",
   "metadata": {},
   "source": [
    "# END TESTS"
   ]
  },
  {
   "cell_type": "raw",
   "metadata": {},
   "source": [
    "# END QUESTION"
   ]
  }
 ],
 "metadata": {
  "kernelspec": {
   "display_name": "Python 3",
   "language": "python",
   "name": "python3"
  },
  "language_info": {
   "codemirror_mode": {
    "name": "ipython",
    "version": 3
   },
   "file_extension": ".py",
   "mimetype": "text/x-python",
   "name": "python",
   "nbconvert_exporter": "python",
   "pygments_lexer": "ipython3",
   "version": "3.7.4"
  }
 },
 "nbformat": 4,
 "nbformat_minor": 2
}
