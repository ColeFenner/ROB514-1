{
 "cells": [
  {
   "cell_type": "raw",
   "metadata": {},
   "source": [
    "# ASSIGNMENT CONFIG\n",
    "requirements: ../requirements.txt\n",
    "solutions_pdf: true\n",
    "export_cell:\n",
    "    instructions: \"Submit through gradescope, lecture activity 6: Optimization\"\n",
    "generate: \n",
    "    pdf: true\n",
    "    points_possible: 5\n",
    "    filtering: true\n",
    "    pagebreaks: true\n",
    "    zips: false"
   ]
  },
  {
   "cell_type": "markdown",
   "metadata": {},
   "source": [
    "\n"
   ]
  },
  {
   "cell_type": "code",
   "execution_count": null,
   "metadata": {},
   "outputs": [],
   "source": [
    "# Usual imports\n",
    "from scipy.optimize import fmin\n",
    "import matplotlib.pyplot as plt\n",
    "import numpy as np"
   ]
  },
  {
   "cell_type": "raw",
   "metadata": {},
   "source": [
    "# BEGIN QUESTION\n",
    "name: fmin_start_location\n",
    "points: 1"
   ]
  },
  {
   "cell_type": "markdown",
   "metadata": {},
   "source": [
    "# Change the starting location to get the other local minima\n",
    "\n",
    "Slides: https://docs.google.com/presentation/d/1xKhWyquiP-_wM9AnJJ57BBtF0eitEqSdODq34ttMZgk/edit?usp=sharing\n",
    "\n",
    "TODO: Set up fmin so that you get the minima at x = 0"
   ]
  },
  {
   "cell_type": "raw",
   "metadata": {},
   "source": [
    "# BEGIN SOLUTION"
   ]
  },
  {
   "cell_type": "code",
   "execution_count": null,
   "metadata": {},
   "outputs": [],
   "source": [
    "# This function has several local minima - how to find the best one?\n",
    "def my_multiple_minima_func(x):\n",
    "    \"\"\"A function with multiple minima\n",
    "    @param x the input x value\n",
    "    @returns ax^2 + bx + c\"\"\"\n",
    "    return (3.0 * x - 4.0) * (0.5 * x + 0.2) * (x - 3.0) * (x - 3.0) + 2.0 * x + 0.5"
   ]
  },
  {
   "cell_type": "code",
   "execution_count": null,
   "metadata": {},
   "outputs": [],
   "source": [
    "# Change this so you get the global minima at x = 0\n",
    "x_at_min, f_at_x_min, _, _, _ = fmin(my_multiple_minima_func, 4.0, full_output=True)\n",
    "# BEGIN SOLUTION NO PROMPT\n",
    "x_at_min, f_at_x_min, _, _, _ = fmin(my_multiple_minima_func, 0.0, full_output=True)\n",
    "# END SOLUTION\n",
    "print(f\"Minimum of f is {f_at_x_min}, happens at x={x_at_min[0]}\")"
   ]
  },
  {
   "cell_type": "code",
   "execution_count": null,
   "metadata": {},
   "outputs": [],
   "source": [
    "# Plot the function and the minima\n",
    "fig, axs = plt.subplots(1, 1, figsize=(4, 4))\n",
    "ts = np.linspace(-2.0, 5.0)\n",
    "axs.plot(ts, my_multiple_minima_func(ts), linestyle='-', label=\"Local minima\")\n",
    "axs.plot(x_at_min, f_at_x_min, 'Xr')\n",
    "\n",
    "axs.set_xlabel('x')\n",
    "axs.set_ylabel('y')\n",
    "\n",
    "axs.set_title(\"Minimum of quartic: Local minima\")"
   ]
  },
  {
   "cell_type": "raw",
   "metadata": {},
   "source": [
    "# END SOLUTION"
   ]
  },
  {
   "cell_type": "raw",
   "metadata": {},
   "source": [
    "# BEGIN TESTS"
   ]
  },
  {
   "cell_type": "code",
   "execution_count": null,
   "metadata": {},
   "outputs": [],
   "source": [
    "assert(np.isclose(x_at_min, 0.1545625, atol=0.0001))"
   ]
  },
  {
   "cell_type": "code",
   "execution_count": null,
   "metadata": {},
   "outputs": [],
   "source": [
    "assert(np.isclose(f_at_x_min, -7.1299378, atol=0.01))"
   ]
  },
  {
   "cell_type": "raw",
   "metadata": {},
   "source": [
    "# END TESTS"
   ]
  },
  {
   "cell_type": "raw",
   "metadata": {},
   "source": [
    "# END QUESTION"
   ]
  },
  {
   "cell_type": "raw",
   "metadata": {},
   "source": [
    "# BEGIN QUESTION\n",
    "name: fmin_iter\n",
    "points: 2"
   ]
  },
  {
   "cell_type": "markdown",
   "metadata": {},
   "source": [
    "# Be less accurate (but faster)\n",
    "\n",
    "TODO: Change xtol and/or ftol until the total number of iterations is under 10"
   ]
  },
  {
   "cell_type": "raw",
   "metadata": {},
   "source": [
    "# BEGIN SOLUTION"
   ]
  },
  {
   "cell_type": "code",
   "execution_count": null,
   "metadata": {},
   "outputs": [],
   "source": [
    "# TODO: Change xtol and ftol until the number of iterations is under 10\n",
    "# (Also play around with the values to see how LONG you can make it run...\n",
    "x_not_as_accurate_min, f_not_as_accurate_min, iters, _, _ = fmin(my_multiple_minima_func, 4.0, xtol=0.0001, ftol=0.0001, full_output=True)\n",
    "# BEGIN SOLUTION\n",
    "x_not_as_accurate_min, f_not_as_accurate_min, iters, _, _ = fmin(my_multiple_minima_func, 4.0, xtol=0.1, ftol=0.1, full_output=True)\n",
    "# END SOLUTION\n"
   ]
  },
  {
   "cell_type": "code",
   "execution_count": null,
   "metadata": {},
   "outputs": [],
   "source": [
    "fig2, axs2 = plt.subplots(1, 1, figsize=(4, 4))\n",
    "ts = np.linspace(2.6, 2.9)\n",
    "axs2.plot(ts, my_multiple_minima_func(ts), linestyle='-', label=\"Zoom in on curve\")\n",
    "\n",
    "x_at_min, f_at_x_min, _, _, _ = fmin(my_multiple_minima_func, 4.0, full_output=True)\n",
    "axs2.plot(x_at_min, f_at_x_min, 'Xr', label=\"Accurate minima\")\n",
    "print(f\"Minimum of f is {f_at_x_min}, happens at x={x_at_min[0]}\")\n",
    "\n",
    "axs2.plot(x_not_as_accurate_min, f_not_as_accurate_min, 'Xg', label=\"Not Accurate minima\")\n",
    "\n",
    "axs2.set_xlabel('x')\n",
    "axs2.set_ylabel('y')\n",
    "axs2.legend()\n",
    "\n",
    "axs2.set_title(\"Minimum of quartic: Zoom in on Local minima\")"
   ]
  },
  {
   "cell_type": "raw",
   "metadata": {},
   "source": [
    "# END SOLUTION"
   ]
  },
  {
   "cell_type": "raw",
   "metadata": {},
   "source": [
    "# BEGIN TESTS"
   ]
  },
  {
   "cell_type": "code",
   "execution_count": null,
   "metadata": {},
   "outputs": [],
   "source": [
    "assert(iters < 10)"
   ]
  },
  {
   "cell_type": "code",
   "execution_count": null,
   "metadata": {},
   "outputs": [],
   "source": [
    "assert np.isclose(f_at_x_min, f_not_as_accurate_min, atol=0.1)"
   ]
  },
  {
   "cell_type": "raw",
   "metadata": {},
   "source": [
    "# END TESTS"
   ]
  },
  {
   "cell_type": "raw",
   "metadata": {},
   "source": [
    "# END QUESTION"
   ]
  },
  {
   "cell_type": "raw",
   "metadata": {},
   "source": [
    "# BEGIN QUESTION\n",
    "name: hours_collaborators\n",
    "points: 1"
   ]
  },
  {
   "cell_type": "markdown",
   "metadata": {},
   "source": [
    "## Hours and collaborators\n",
    "Required for every assignment - fill out before you hand-in.\n",
    "\n",
    "Listing names and websites helps you to document who you worked with and what internet help you received in the case of any plagiarism issues. You should list names of anyone (in class or not) who has substantially helped you with an assignment - or anyone you have *helped*. You do not need to list TAs.\n",
    "\n",
    "Listing hours helps us track if the assignments are too long."
   ]
  },
  {
   "cell_type": "raw",
   "metadata": {},
   "source": [
    "# BEGIN SOLUTION"
   ]
  },
  {
   "cell_type": "code",
   "execution_count": null,
   "metadata": {},
   "outputs": [],
   "source": [
    "# BEGIN SOLUTION NO PROMPT\n",
    "worked_with_names = {}\n",
    "websites = {}\n",
    "hours = 4\n",
    "\n",
    "# END SOLUTION\n",
    "\n",
    "\"\"\" # BEGIN PROMPT\n",
    "# List of names (creates a set)\n",
    "worked_with_names = {\"not filled out\"}\n",
    "# List of URLS (creates a set)\n",
    "websites = {\"not filled out\"}\n",
    "# Approximate number of hours, including lab/in-class time\n",
    "hours = -1.5\n",
    "\n",
    "# for all row, column in all_indices_from_where\n",
    "#.   if this is the column for wrist torque \n",
    "#.      print(f\"Row: {r}, Time step: {c // n_time_steps} Successful y/n: {pick_data[r, -1] == 1}, value: {pick_data[r, c]}\")\n",
    "\"\"\" # END PROMPT"
   ]
  },
  {
   "cell_type": "raw",
   "metadata": {},
   "source": [
    "# END SOLUTION"
   ]
  },
  {
   "cell_type": "raw",
   "metadata": {},
   "source": [
    "# BEGIN TESTS"
   ]
  },
  {
   "cell_type": "code",
   "execution_count": null,
   "metadata": {},
   "outputs": [],
   "source": [
    "assert(not \"not filled out\" in worked_with_names)"
   ]
  },
  {
   "cell_type": "code",
   "execution_count": null,
   "metadata": {},
   "outputs": [],
   "source": [
    "assert(not \"not filled out\" in websites)"
   ]
  },
  {
   "cell_type": "code",
   "execution_count": null,
   "metadata": {},
   "outputs": [],
   "source": [
    "assert(hours > 0)"
   ]
  },
  {
   "cell_type": "raw",
   "metadata": {},
   "source": [
    "# END TESTS"
   ]
  },
  {
   "cell_type": "raw",
   "metadata": {},
   "source": [
    "# END QUESTION"
   ]
  }
 ],
 "metadata": {
  "kernelspec": {
   "display_name": "Python 3",
   "language": "python",
   "name": "python3"
  },
  "language_info": {
   "codemirror_mode": {
    "name": "ipython",
    "version": 3
   },
   "file_extension": ".py",
   "mimetype": "text/x-python",
   "name": "python",
   "nbconvert_exporter": "python",
   "pygments_lexer": "ipython3",
   "version": "3.7.4"
  }
 },
 "nbformat": 4,
 "nbformat_minor": 2
}
