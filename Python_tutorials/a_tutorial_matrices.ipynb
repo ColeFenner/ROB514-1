{
 "cells": [
  {
   "cell_type": "markdown",
   "metadata": {},
   "source": [
    "# Matrices\n",
    "\n",
    "Matrices are, fundamentally, about moving rigid objects around in space. This tutorial builds a couple matrices (in 2D), then uses them to plot a circle in different positions.\n",
    "\n",
    "The major tricky part of this is that the object - the circle - is ALSO represented as a matrix (a **3xn** matrix, **n** being the number of points used to represent the circle).\n",
    "\n",
    "Some other tricky parts with matrices\n",
    "\n",
    "- Order matters. Doing m1 then m2 is NOT the same as m2 then m1. We will use the convention that **pts_new = m1 @ m2 @ m3 pts_orig** means multiply pts_orig by m3, then m2, then m1. Yes, that feels backwards. But that is the convention (left multiply) in most software that uses matrices\n",
    "\n",
    "- You'll notice I used @ and not *. numpy decided to use @ instead of * for matrix multiply ( * means item by item multiplication a) will only work if the two matrics are the same size and b) probably isn't what you want).\n",
    "\n",
    "This example puts all of the code that will be re-used into functions in a Python file (**matrix_routines.py**), rather than just writing it in-line. So you should open up that file and look at it, too, then come back and work through this tutorial. \n",
    "\n",
    "In this tutorial, we will\n",
    "- Multiply matrices together\n",
    "- Use matrices to place objects in the world\n",
    "\n",
    "A reminder that all matrices are 3x3 (even though we are in 2d) so that we can do translations (the upper left is the 2x2 matrix)\n",
    "\n",
    "First, look at matrix_routines.py. Look for code that:\n",
    "- Creates matrices\n",
    "- Creates a circle as a list of points\n",
    "- Multiplies points by a matrix and plots the before and after\n",
    "-- Where are the points made/created?\n",
    "-- Where does the multiplicaiton happen?\n",
    "\n",
    "There is an example here that shows swapping the order of the matrices. Try drawing what the rotations/translations would look like on a piece of paper and try to match up the transformations with the code."
   ]
  },
  {
   "cell_type": "code",
   "execution_count": null,
   "metadata": {},
   "outputs": [],
   "source": [
    "import numpy as np\n",
    "from matplotlib import pyplot as plt\n",
    "\n",
    "# All of the matrix routines are in here - we can import the Python (.py) file just like the imports above\n",
    "#  All of the functions in there will be accessed as mr.\n",
    "import matrix_routines as mr\n",
    "\n",
    "\n",
    "# These commands will force JN to actually re-load the external file when you re-execute the import command\n",
    "%load_ext autoreload\n",
    "%autoreload 2"
   ]
  },
  {
   "cell_type": "markdown",
   "metadata": {},
   "source": [
    "# Example 1: What happens if you swap the order of two matrices? \n"
   ]
  },
  {
   "cell_type": "code",
   "execution_count": null,
   "metadata": {},
   "outputs": [],
   "source": [
    "def example_order_matters():\n",
    "    \"\"\" Make the plot for rotation-translation versus translation-rotation\"\"\"\n",
    "    # Make the plot that shows the difference between rotate-translate and translate-rotate\n",
    "    fig, axs = plt.subplots(2, 2, figsize=(8, 8))\n",
    "\n",
    "    # Rotate the object then translate it - notice that the rotation goes on the right\n",
    "    mat_rot_trans = mr.make_translation_matrix(1, 2) @ mr.make_rotation_matrix(np.pi / 4.0)   # pts go here\n",
    "\n",
    "    axs[0, 0].set_title(\"Rot trans\")\n",
    "    mr.plot_axes_and_circle(axs[0, 0], mat_rot_trans)\n",
    "\n",
    "    # Reverse the order of operations\n",
    "    # Now create the matrix in the reverse order - try to predict what this will look like\n",
    "    #   Set mat to be a translation, rotation matrix (same params as above)\n",
    "    axs[0, 1].set_title(\"Trans rot\")\n",
    "\n",
    "    # Translate first, then rotate\n",
    "    mat_trans_rot = mr.make_rotation_matrix(np.pi / 4.0) @ mr.make_translation_matrix(1, 2)   # pts go here\n",
    "    mr.plot_axes_and_circle(axs[0, 1], mat_trans_rot)\n",
    "\n",
    "    # Now do a matrix that is a scale 0.5,2.0, rotate pi/4, translate (1,2)\n",
    "    mat_scl_rot_trans = mr.make_translation_matrix(1, 2) @ \\\n",
    "                        mr.make_rotation_matrix(np.pi / 4.0) @ \\\n",
    "                        mr.make_scale_matrix(0.5, 2.0)   # pts go here\n",
    "\n",
    "    axs[1, 0].set_title(\"Scl rot trans\")\n",
    "    mr.plot_axes_and_circle(axs[1, 0], mat_scl_rot_trans)\n",
    "\n",
    "    # Reverse the order of operations\n",
    "    # Now do a matrix (mat) that is the REVERSE of the scale, rotate, translate\n",
    "    mat_trans_rot_scl = mr.make_scale_matrix(0.5, 2.0) @ \\\n",
    "                        mr.make_rotation_matrix(np.pi / 4.0) @ \\\n",
    "                        mr.make_translation_matrix(1, 2)   # pts go here\n",
    "\n",
    "    axs[1, 1].set_title(\"Trans rot scl\")\n",
    "\n",
    "    mr.plot_axes_and_circle(axs[1, 1], mat_trans_rot_scl)"
   ]
  },
  {
   "cell_type": "code",
   "execution_count": null,
   "metadata": {},
   "outputs": [],
   "source": [
    "# Call the example_order_matters\n",
    "example_order_matters()\n"
   ]
  },
  {
   "cell_type": "code",
   "execution_count": null,
   "metadata": {},
   "outputs": [],
   "source": []
  }
 ],
 "metadata": {
  "kernelspec": {
   "display_name": "Python 3",
   "language": "python",
   "name": "python3"
  },
  "language_info": {
   "codemirror_mode": {
    "name": "ipython",
    "version": 3
   },
   "file_extension": ".py",
   "mimetype": "text/x-python",
   "name": "python",
   "nbconvert_exporter": "python",
   "pygments_lexer": "ipython3",
   "version": "3.7.4"
  }
 },
 "nbformat": 4,
 "nbformat_minor": 2
}
