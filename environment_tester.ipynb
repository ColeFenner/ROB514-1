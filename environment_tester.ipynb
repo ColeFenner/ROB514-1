{
    "cells": [
        {
            "cell_type": "markdown",
            "metadata": {},
            "source": [
                "# Welcome to your new dev environment!\n",
                "\n",
                "This is a quick tester file to ensure that we can open and run Jupyter notebook files.\n",
                "\n",
                "Fill out the hours and collaborators, then hit \"Run All\" to generate the appropriate fields. \n"
            ]
        },
        {
            "cell_type": "code",
            "execution_count": 4,
            "metadata": {
                "deletable": false,
                "editable": false
            },
            "outputs": [
                {
                    "data": {
                        "text/html": [
                            "<p><strong><pre style='display: inline;'>tests</pre></strong> passed! 🎉</p>"
                        ],
                        "text/plain": [
                            "tests results: All test cases passed!"
                        ]
                    },
                    "execution_count": 4,
                    "metadata": {},
                    "output_type": "execute_result"
                }
            ],
            "source": [
                "# Initialize Otter\n",
                "import otter\n",
                "grader = otter.Notebook(\"environment_tester.ipynb\")\n",
                "\n",
                "# This check is currently empty and is guaranteed to pass\n",
                "grader.check(\"tests\")"
            ]
        },
        {
            "cell_type": "markdown",
            "metadata": {},
            "source": [
                "## Hours and collaborators\n",
                "Required for every assignment - fill out before you hand-in.\n",
                "\n",
                "Listing names and websites helps you to document who you worked with and what internet help you received in the case of any plagiarism issues. You should list names of anyone (in class or not) who has substantially helped you with an assignment - or anyone you have *helped*. \n",
                "\n",
                "Listing hours helps us track if the assignments are too long."
            ]
        },
        {
            "cell_type": "code",
            "execution_count": 5,
            "metadata": {
                "tags": []
            },
            "outputs": [],
            "source": [
                "\n",
                "# List of names (creates a set)\n",
                "worked_with_names = {\"myself\"}\n",
                "# List of URLS (creates a set)\n",
                "websites = {\"None\"}\n",
                "# Approximate number of hours, including lab/in-class time\n",
                "hours = 2.0\n",
                "\n",
                "# for all row, column in all_indices_from_where\n",
                "#.   if this is the column for wrist torque \n",
                "#.      print(f\"Row: {r}, Time step: {c // n_time_steps} Successful y/n: {pick_data[r, -1] == 1}, value: {pick_data[r, c]}\")"
            ]
        },
        {
            "cell_type": "code",
            "execution_count": 6,
            "metadata": {
                "deletable": false,
                "editable": false
            },
            "outputs": [
                {
                    "data": {
                        "text/html": [
                            "<p><strong><pre style='display: inline;'>hours_collaborators</pre></strong> passed! 🌈</p>"
                        ],
                        "text/plain": [
                            "hours_collaborators results: All test cases passed!"
                        ]
                    },
                    "execution_count": 6,
                    "metadata": {},
                    "output_type": "execute_result"
                }
            ],
            "source": [
                "grader.check(\"hours_collaborators\")"
            ]
        },
        {
            "cell_type": "markdown",
            "metadata": {},
            "source": [
                "## Submission\n",
                "\n",
                "Now, you'll need to **save this file** and then run the command in a terminal:\n",
                "\n",
                "`jupyter nbconvert --to pdf environment_tester.ipynb`\n",
                "\n",
                "Check to see that the PDF file contains some text and upload to Gradescope!"
            ]
        },
        {
            "cell_type": "markdown",
            "metadata": {},
            "source": [
                " "
            ]
        }
    ],
    "metadata": {
        "kernelspec": {
            "display_name": "Python 3",
            "language": "python",
            "name": "python3"
        },
        "language_info": {
            "codemirror_mode": {
                "name": "ipython",
                "version": 3
            },
            "file_extension": ".py",
            "mimetype": "text/x-python",
            "name": "python",
            "nbconvert_exporter": "python",
            "pygments_lexer": "ipython3",
            "version": "3.12.7"
        },
        "otter": {
            "OK_FORMAT": true,
            "tests": {
                "hours_collaborators": {
                    "name": "hours_collaborators",
                    "points": 1,
                    "suites": [
                        {
                            "cases": [
                                {
                                    "code": ">>> assert(not \"not filled out\" in worked_with_names)\n",
                                    "hidden": false,
                                    "locked": false
                                },
                                {
                                    "code": ">>> assert(not \"not filled out\" in websites)\n",
                                    "hidden": false,
                                    "locked": false
                                },
                                {
                                    "code": ">>> assert(hours > 0)\n",
                                    "hidden": false,
                                    "locked": false
                                }
                            ],
                            "scored": true,
                            "setup": "",
                            "teardown": "",
                            "type": "doctest"
                        }
                    ]
                },
                "list": {
                    "name": "list",
                    "points": 1,
                    "suites": [
                        {
                            "cases": [
                                {
                                    "code": ">>> res = calc_stats_from_list([-1, 2, -3, 4, -5])\n>>> assert np.isclose(res[\"Mean positive\"], 3)\n",
                                    "hidden": false,
                                    "locked": false
                                },
                                {
                                    "code": ">>> res = calc_stats_from_list([-1, 2, -3, 4, -5])\n>>> assert np.isclose(res[\"Mean negative\"], -3)\n",
                                    "hidden": false,
                                    "locked": false
                                },
                                {
                                    "code": ">>> res = calc_stats_from_list([-1, 2, -3, 4, -5])\n>>> assert np.isclose(res[\"Count positive\"], 2)\n",
                                    "hidden": false,
                                    "locked": false
                                },
                                {
                                    "code": ">>> res = calc_stats_from_list([-1, 2, -3, 4, -5])\n>>> assert np.isclose(res[\"Count negative\"], 3)\n",
                                    "hidden": false,
                                    "locked": false
                                }
                            ],
                            "scored": true,
                            "setup": "",
                            "teardown": "",
                            "type": "doctest"
                        }
                    ]
                },
                "nparray": {
                    "name": "nparray",
                    "points": 1,
                    "suites": [
                        {
                            "cases": [
                                {
                                    "code": ">>> test_data = np.array([-1, 2, -3, 4, -5])\n>>> res = calc_stats_from_nparray(test_data)\n>>> assert np.isclose(res[\"Mean positive\"], 3)\n",
                                    "hidden": false,
                                    "locked": false
                                },
                                {
                                    "code": ">>> test_data = np.array([-1, 2, -3, 4, -5])\n>>> res = calc_stats_from_nparray(test_data)\n>>> assert np.isclose(res[\"Mean negative\"], -3)\n>>> \n",
                                    "hidden": false,
                                    "locked": false
                                },
                                {
                                    "code": ">>> test_data = np.array([-1, 2, -3, 4, -5])\n>>> res = calc_stats_from_nparray(test_data)\n>>> assert np.isclose(res[\"Count positive\"], 2)\n",
                                    "hidden": false,
                                    "locked": false
                                },
                                {
                                    "code": ">>> test_data = np.array([-1, 2, -3, 4, -5])\n>>> res = calc_stats_from_nparray(test_data)\n>>> assert np.isclose(res[\"Count negative\"], 3)\n",
                                    "hidden": false,
                                    "locked": false
                                }
                            ],
                            "scored": true,
                            "setup": "",
                            "teardown": "",
                            "type": "doctest"
                        }
                    ]
                },
                "tests": {
                    "name": "tests",
                    "points": 2,
                    "suites": [
                        {
                            "cases": [
                                {
                                    "code": "",
                                    "hidden": false,
                                    "locked": false
                                }
                            ],
                            "scored": true,
                            "setup": "",
                            "teardown": "",
                            "type": "doctest"
                        }
                    ]
                }
            }
        }
    },
    "nbformat": 4,
    "nbformat_minor": 2
}
